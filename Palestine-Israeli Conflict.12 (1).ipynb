{
 "cells": [
  {
   "cell_type": "markdown",
   "id": "e3020ad6-e23e-490c-acf6-3d7d23022498",
   "metadata": {},
   "source": [
    "# Palestine-Israeli Conflict \n",
    "### Project number- 21\n",
    "#### Presented by - Omri Pitchon, Avishem Asayag, Orel Meir.\n",
    "\n",
    "https://www.kaggle.com/datasets/wilomentena/palestine-israel-conflict-2023-2024-acled"
   ]
  },
  {
   "cell_type": "markdown",
   "id": "480aeb65-93e9-4078-8204-0d10166e3149",
   "metadata": {},
   "source": [
    "<a id='top'></a>\n",
    "\n",
    "<div>\n",
    "<img src=\"https://github.com/AvishemAsayag/project1/blob/main/%D7%AA%D7%9E%D7%95%D7%A0%D7%AA%20%D7%A1%D7%9B%D7%A1%D7%95%D7%9A%20%D7%99%D7%A9%D7%A8%D7%90%D7%9C%D7%99%20%D7%A4%D7%9C%D7%A1%D7%98%D7%99%D7%A0%D7%99.jpg?raw=true\" \n",
    "width=\"555\"/>\n",
    "</div>"
   ]
  },
  {
   "cell_type": "markdown",
   "id": "15420cb0-056a-4c89-a89b-effd2372926f",
   "metadata": {},
   "source": [
    "\n",
    "# About the Data"
   ]
  },
  {
   "cell_type": "markdown",
   "id": "86594be7-245a-4dbe-82cc-b71cf1ae119a",
   "metadata": {},
   "source": [
    "##### The data provided focuses on all location and event data collected by the ACLED organization in the Palestine and Israel regions since October 1st until January 2024.\n"
   ]
  },
  {
   "cell_type": "markdown",
   "id": "dcd36a05-577b-415e-9052-56de4d9bdeec",
   "metadata": {
    "tags": []
   },
   "source": [
    "## ACLED website"
   ]
  },
  {
   "cell_type": "markdown",
   "id": "c4d7bb0c-f273-434d-a836-c9da423eea69",
   "metadata": {
    "tags": []
   },
   "source": [
    "##### The Armed Conflict Location & Event Data Project (ACLED) collects real-time data on the locations, dates, actors, fatalities, and types of all reported political violence and protest events around the world.\n",
    "link to the website: https://acleddata.com/"
   ]
  },
  {
   "cell_type": "markdown",
   "id": "e57e7e03-5779-4049-ab5f-45bf04535167",
   "metadata": {},
   "source": [
    " ### Link for further reading about the conflict"
   ]
  },
  {
   "cell_type": "markdown",
   "id": "e53b5ea6-3481-4150-aa43-36ee89a96641",
   "metadata": {},
   "source": [
    "https://en.wikipedia.org/wiki/Timeline_of_the_Israeli%E2%80%93Palestinian_conflict_in_2023#October"
   ]
  },
  {
   "cell_type": "markdown",
   "id": "d6e6aed4-67f7-401f-81eb-b7f9ff56d563",
   "metadata": {
    "tags": []
   },
   "source": [
    "#### Explanation of the columns in the data"
   ]
  },
  {
   "cell_type": "markdown",
   "id": "ed1621d5-2121-490d-96d8-0c48348cfde8",
   "metadata": {},
   "source": [
    "- **event_id_cnty** - A unique alphanumeric event identifier by number and country acronym. This identifier remains constant even when the event details are updated.\n",
    "- **event_date** - The date on which the event took place. Recorded as Year-Month- Day.\n",
    "- **time_precision** - A numeric code between 1 and 3 indicating the level of precision of the date recorded for the event. The higher the number, the lower the precision.\n",
    "- **disorder_type** - The disorder category an event belongs to.\n",
    "- **event_type** - The type of event; further specifies the nature of the event.\n",
    " - **sub_event_type** - A subcategory of the event type.\n",
    " - **actor1** - One of two main actors involved in the event (does not necessarily indicate the aggressor).\n",
    " - **assoc_actor_1** - Actor(s) involved in the event alongside ‘Actor 1’ or actor designations that further identify ‘Actor 1’.\n",
    " - **inter1** - A numeric code between 0 and 8 indicating the type of ‘Actor 1’ .\n",
    "- **interaction** - A two-digit numeric code (combination of ‘Inter 1’ and ‘Inter 2’) indicating the two actor types interacting in the event.\n",
    "- **civilian_targeting** - This column indicates whether the event involved civilian targeting.\n",
    " - **iso** - A unique three-digit numeric code assigned to each country or territory according to ISO 3166.\n",
    "- **region** -The region of the world where the event took place.\n",
    "- **country** - The country or territory in which the event took place.\n",
    "- **admin1** - The largest sub-national administrative region in which the event took place.\n",
    "- **admin2** - The second largest sub-national administrative region in which the event took place.\n",
    "- **admin3** - The third largest sub-national administrative region in which the event took place.\n",
    "- **location** - The name of the location at which the event took place.\n",
    "- **latitude** - The latitude of the location in four decimal degrees notation (EPSG:3857).\n",
    "- **ongitude** - The longitude of the location in four decimal degrees notation (EPSG:3857).\n",
    "- **longitude** - The longitude of the location in four decimal degrees notation (EPSG:3857).\n",
    "- **geo_precision** - A numeric code between 1 and 3 indicating the level of certainty of the location recorded for the event. \n",
    "- **source** - The sources used to record the event. Separated by a semicolon.\n",
    "- **source_scale** -An indication of the geographic closeness of the used sources to the event (for more, see the section Source Scale).\n",
    "- **notes** - A short description of the event.\n",
    "- **fatalities** - The number of reported fatalities arising from an event. When there are conflicting reports, the most conservative estimate is recorded.\n",
    " - **tags** - Additional structured information about the event, Separated by a semicolon.\n",
    " - **timestamp** - An automatically generated Unix timestamp that represents the exact date and time an event was uploaded to the ACLED API."
   ]
  },
  {
   "cell_type": "code",
   "execution_count": 144,
   "id": "26466dbb-6e04-4ae4-9961-4a13cd35dc30",
   "metadata": {},
   "outputs": [],
   "source": [
    "import pandas as pd\n",
    "import numpy as np\n",
    "import matplotlib.pyplot as plt\n",
    "import seaborn as sns"
   ]
  },
  {
   "cell_type": "markdown",
   "id": "731bb7ce-7f16-4e75-9c1c-5691a5699913",
   "metadata": {},
   "source": [
    "\n",
    "\n",
    "\n",
    "1. [Wrangling data](#section1)\n",
    "\n",
    "   1.1 [Edit columns](#section1.1)   \n",
    "   1.2 [Missing values and fix columns](#section1.2)  \n",
    "  \n",
    "2. [Observations](#section2)\n",
    "\n",
    "    2.1 [First Observation](#section2.1) \n",
    "    \n",
    "    2.2 [Second Observation](#section2.2)  \n",
    "    \n",
    "    2.3 [Third Observation](#section2.3)\n"
   ]
  },
  {
   "cell_type": "markdown",
   "id": "bb279766-c5e4-4162-9450-a46f3c6eedb6",
   "metadata": {
    "tags": []
   },
   "source": [
    "<a id='section1'></a>\n",
    "## <span style=\"color:blue\"> 1. Wrangling data</span>\n",
    "[back to top](#top)\n",
    "\n"
   ]
  },
  {
   "cell_type": "code",
   "execution_count": 2,
   "id": "cb9d5b86-5c63-4726-a942-09e01ac11055",
   "metadata": {},
   "outputs": [
    {
     "data": {
      "text/html": [
       "<div>\n",
       "<style scoped>\n",
       "    .dataframe tbody tr th:only-of-type {\n",
       "        vertical-align: middle;\n",
       "    }\n",
       "\n",
       "    .dataframe tbody tr th {\n",
       "        vertical-align: top;\n",
       "    }\n",
       "\n",
       "    .dataframe thead th {\n",
       "        text-align: right;\n",
       "    }\n",
       "</style>\n",
       "<table border=\"1\" class=\"dataframe\">\n",
       "  <thead>\n",
       "    <tr style=\"text-align: right;\">\n",
       "      <th></th>\n",
       "      <th>event_id_cnty</th>\n",
       "      <th>event_date</th>\n",
       "      <th>year</th>\n",
       "      <th>time_precision</th>\n",
       "      <th>disorder_type</th>\n",
       "      <th>event_type</th>\n",
       "      <th>sub_event_type</th>\n",
       "      <th>actor1</th>\n",
       "      <th>assoc_actor_1</th>\n",
       "      <th>inter1</th>\n",
       "      <th>...</th>\n",
       "      <th>location</th>\n",
       "      <th>latitude</th>\n",
       "      <th>longitude</th>\n",
       "      <th>geo_precision</th>\n",
       "      <th>source</th>\n",
       "      <th>source_scale</th>\n",
       "      <th>notes</th>\n",
       "      <th>fatalities</th>\n",
       "      <th>tags</th>\n",
       "      <th>timestamp</th>\n",
       "    </tr>\n",
       "  </thead>\n",
       "  <tbody>\n",
       "    <tr>\n",
       "      <th>0</th>\n",
       "      <td>ISR38822</td>\n",
       "      <td>19 January 2024</td>\n",
       "      <td>2024</td>\n",
       "      <td>1</td>\n",
       "      <td>Political violence</td>\n",
       "      <td>Explosions/Remote violence</td>\n",
       "      <td>Shelling/artillery/missile attack</td>\n",
       "      <td>Hezbollah</td>\n",
       "      <td>NaN</td>\n",
       "      <td>3</td>\n",
       "      <td>...</td>\n",
       "      <td>Elon</td>\n",
       "      <td>33.0637</td>\n",
       "      <td>35.2201</td>\n",
       "      <td>2</td>\n",
       "      <td>Ynet</td>\n",
       "      <td>National</td>\n",
       "      <td>On 19 January 2024, Hezbollah forces in Lebano...</td>\n",
       "      <td>0</td>\n",
       "      <td>NaN</td>\n",
       "      <td>1705978255</td>\n",
       "    </tr>\n",
       "    <tr>\n",
       "      <th>1</th>\n",
       "      <td>ISR38830</td>\n",
       "      <td>19 January 2024</td>\n",
       "      <td>2024</td>\n",
       "      <td>1</td>\n",
       "      <td>Demonstrations</td>\n",
       "      <td>Protests</td>\n",
       "      <td>Peaceful protest</td>\n",
       "      <td>Protesters (Israel)</td>\n",
       "      <td>Military Forces of Israel (2022-)</td>\n",
       "      <td>6</td>\n",
       "      <td>...</td>\n",
       "      <td>Amikam</td>\n",
       "      <td>32.5635</td>\n",
       "      <td>35.0208</td>\n",
       "      <td>1</td>\n",
       "      <td>Israel Hayom</td>\n",
       "      <td>National</td>\n",
       "      <td>On 19 January 2024, army reservists and relati...</td>\n",
       "      <td>0</td>\n",
       "      <td>crowd size=no report</td>\n",
       "      <td>1705978255</td>\n",
       "    </tr>\n",
       "    <tr>\n",
       "      <th>2</th>\n",
       "      <td>ISR38864</td>\n",
       "      <td>19 January 2024</td>\n",
       "      <td>2024</td>\n",
       "      <td>1</td>\n",
       "      <td>Demonstrations</td>\n",
       "      <td>Protests</td>\n",
       "      <td>Peaceful protest</td>\n",
       "      <td>Protesters (Israel)</td>\n",
       "      <td>Students (Israel)</td>\n",
       "      <td>6</td>\n",
       "      <td>...</td>\n",
       "      <td>Petah Tikva</td>\n",
       "      <td>32.0871</td>\n",
       "      <td>34.8875</td>\n",
       "      <td>1</td>\n",
       "      <td>Haaretz</td>\n",
       "      <td>National</td>\n",
       "      <td>On 19 January 2024, dozens of high school stud...</td>\n",
       "      <td>0</td>\n",
       "      <td>crowd size=dozens</td>\n",
       "      <td>1705978256</td>\n",
       "    </tr>\n",
       "    <tr>\n",
       "      <th>3</th>\n",
       "      <td>ISR38867</td>\n",
       "      <td>19 January 2024</td>\n",
       "      <td>2024</td>\n",
       "      <td>1</td>\n",
       "      <td>Demonstrations</td>\n",
       "      <td>Protests</td>\n",
       "      <td>Peaceful protest</td>\n",
       "      <td>Protesters (Israel)</td>\n",
       "      <td>Women (Israel)</td>\n",
       "      <td>6</td>\n",
       "      <td>...</td>\n",
       "      <td>Tel Aviv</td>\n",
       "      <td>32.0809</td>\n",
       "      <td>34.7806</td>\n",
       "      <td>1</td>\n",
       "      <td>Haaretz</td>\n",
       "      <td>National</td>\n",
       "      <td>On 19 January 2024, dozens of women and relati...</td>\n",
       "      <td>0</td>\n",
       "      <td>crowd size=dozens</td>\n",
       "      <td>1705978256</td>\n",
       "    </tr>\n",
       "    <tr>\n",
       "      <th>4</th>\n",
       "      <td>ISR38868</td>\n",
       "      <td>19 January 2024</td>\n",
       "      <td>2024</td>\n",
       "      <td>1</td>\n",
       "      <td>Strategic developments</td>\n",
       "      <td>Strategic developments</td>\n",
       "      <td>Disrupted weapons use</td>\n",
       "      <td>Military Forces of Israel (2022-)</td>\n",
       "      <td>NaN</td>\n",
       "      <td>1</td>\n",
       "      <td>...</td>\n",
       "      <td>Haifa</td>\n",
       "      <td>32.8184</td>\n",
       "      <td>34.9885</td>\n",
       "      <td>2</td>\n",
       "      <td>Calcalist; Colbo News; Haaretz; Jerusalem Post...</td>\n",
       "      <td>Subnational-National</td>\n",
       "      <td>Interception: On 19 January 2024, Israeli mili...</td>\n",
       "      <td>0</td>\n",
       "      <td>NaN</td>\n",
       "      <td>1705978256</td>\n",
       "    </tr>\n",
       "  </tbody>\n",
       "</table>\n",
       "<p>5 rows × 28 columns</p>\n",
       "</div>"
      ],
      "text/plain": [
       "  event_id_cnty       event_date  year  time_precision  \\\n",
       "0      ISR38822  19 January 2024  2024               1   \n",
       "1      ISR38830  19 January 2024  2024               1   \n",
       "2      ISR38864  19 January 2024  2024               1   \n",
       "3      ISR38867  19 January 2024  2024               1   \n",
       "4      ISR38868  19 January 2024  2024               1   \n",
       "\n",
       "            disorder_type                  event_type  \\\n",
       "0      Political violence  Explosions/Remote violence   \n",
       "1          Demonstrations                    Protests   \n",
       "2          Demonstrations                    Protests   \n",
       "3          Demonstrations                    Protests   \n",
       "4  Strategic developments      Strategic developments   \n",
       "\n",
       "                      sub_event_type                             actor1  \\\n",
       "0  Shelling/artillery/missile attack                          Hezbollah   \n",
       "1                   Peaceful protest                Protesters (Israel)   \n",
       "2                   Peaceful protest                Protesters (Israel)   \n",
       "3                   Peaceful protest                Protesters (Israel)   \n",
       "4              Disrupted weapons use  Military Forces of Israel (2022-)   \n",
       "\n",
       "                       assoc_actor_1  inter1  ...     location latitude  \\\n",
       "0                                NaN       3  ...         Elon  33.0637   \n",
       "1  Military Forces of Israel (2022-)       6  ...       Amikam  32.5635   \n",
       "2                  Students (Israel)       6  ...  Petah Tikva  32.0871   \n",
       "3                     Women (Israel)       6  ...     Tel Aviv  32.0809   \n",
       "4                                NaN       1  ...        Haifa  32.8184   \n",
       "\n",
       "   longitude geo_precision                                             source  \\\n",
       "0    35.2201             2                                               Ynet   \n",
       "1    35.0208             1                                       Israel Hayom   \n",
       "2    34.8875             1                                            Haaretz   \n",
       "3    34.7806             1                                            Haaretz   \n",
       "4    34.9885             2  Calcalist; Colbo News; Haaretz; Jerusalem Post...   \n",
       "\n",
       "           source_scale                                              notes  \\\n",
       "0              National  On 19 January 2024, Hezbollah forces in Lebano...   \n",
       "1              National  On 19 January 2024, army reservists and relati...   \n",
       "2              National  On 19 January 2024, dozens of high school stud...   \n",
       "3              National  On 19 January 2024, dozens of women and relati...   \n",
       "4  Subnational-National  Interception: On 19 January 2024, Israeli mili...   \n",
       "\n",
       "  fatalities                  tags   timestamp  \n",
       "0          0                   NaN  1705978255  \n",
       "1          0  crowd size=no report  1705978255  \n",
       "2          0     crowd size=dozens  1705978256  \n",
       "3          0     crowd size=dozens  1705978256  \n",
       "4          0                   NaN  1705978256  \n",
       "\n",
       "[5 rows x 28 columns]"
      ]
     },
     "execution_count": 2,
     "metadata": {},
     "output_type": "execute_result"
    }
   ],
   "source": [
    "url = 'https://raw.githubusercontent.com/AvishemAsayag/project1/main/2023-10-01-2024-01-29-Middle_East-Israel-Palestine.csv'\n",
    "Isr_plst_conflict_df = pd.read_csv(url)\n",
    "Isr_plst_conflict_df.head()"
   ]
  },
  {
   "cell_type": "markdown",
   "id": "b07d57ea-c373-48e7-8920-def6ef3432c3",
   "metadata": {},
   "source": [
    "### Understanding the data "
   ]
  },
  {
   "cell_type": "markdown",
   "id": "7d3c142e-dc51-4c9f-a244-34be4fa3ee2b",
   "metadata": {},
   "source": [
    " ##### we look at the types of columns and how much NAN types each have to see if we want to change them"
   ]
  },
  {
   "cell_type": "code",
   "execution_count": 59,
   "id": "0afe4f9e-ce29-418e-8d90-3b199923c5e0",
   "metadata": {},
   "outputs": [
    {
     "name": "stdout",
     "output_type": "stream",
     "text": [
      "<class 'pandas.core.frame.DataFrame'>\n",
      "Int64Index: 18080 entries, 0 to 18089\n",
      "Data columns (total 28 columns):\n",
      " #   Column              Non-Null Count  Dtype         \n",
      "---  ------              --------------  -----         \n",
      " 0   event_id_cnty       18080 non-null  object        \n",
      " 1   event_date          18080 non-null  datetime64[ns]\n",
      " 2   time_precision      18080 non-null  int64         \n",
      " 3   disorder_type       18080 non-null  object        \n",
      " 4   event_type          18080 non-null  object        \n",
      " 5   sub_event_type      18080 non-null  object        \n",
      " 6   actor1              18080 non-null  object        \n",
      " 7   assoc_actor_1       18080 non-null  object        \n",
      " 8   inter1              18080 non-null  int64         \n",
      " 9   interaction         18080 non-null  int64         \n",
      " 10  civilian_targeting  18080 non-null  object        \n",
      " 11  iso                 18080 non-null  int64         \n",
      " 12  country             18080 non-null  object        \n",
      " 13  admin1              18080 non-null  object        \n",
      " 14  admin2              18080 non-null  object        \n",
      " 15  admin3              18080 non-null  object        \n",
      " 16  location            18080 non-null  object        \n",
      " 17  latitude            18080 non-null  float64       \n",
      " 18  longitude           18080 non-null  float64       \n",
      " 19  geo_precision       18080 non-null  int64         \n",
      " 20  source              18080 non-null  object        \n",
      " 21  source_scale        18080 non-null  object        \n",
      " 22  notes               18080 non-null  object        \n",
      " 23  fatalities          18080 non-null  int64         \n",
      " 24  tags                18080 non-null  object        \n",
      " 25  timestamp           18080 non-null  int64         \n",
      " 26  month               18080 non-null  object        \n",
      " 27  day_month           18080 non-null  object        \n",
      "dtypes: datetime64[ns](1), float64(2), int64(7), object(18)\n",
      "memory usage: 4.0+ MB\n"
     ]
    }
   ],
   "source": [
    "Isr_plst_conflict_df.info()"
   ]
  },
  {
   "cell_type": "code",
   "execution_count": 4,
   "id": "04730d13-d20f-4392-a44c-57d986239256",
   "metadata": {},
   "outputs": [
    {
     "data": {
      "text/plain": [
       "(18090, 28)"
      ]
     },
     "execution_count": 4,
     "metadata": {},
     "output_type": "execute_result"
    }
   ],
   "source": [
    "Isr_plst_conflict_df.shape"
   ]
  },
  {
   "cell_type": "code",
   "execution_count": 5,
   "id": "0197a140-15b2-4ac8-8f96-be68f74c1157",
   "metadata": {},
   "outputs": [
    {
     "data": {
      "text/plain": [
       "Index(['event_id_cnty', 'event_date', 'year', 'time_precision',\n",
       "       'disorder_type', 'event_type', 'sub_event_type', 'actor1',\n",
       "       'assoc_actor_1', 'inter1', 'interaction', 'civilian_targeting', 'iso',\n",
       "       'region', 'country', 'admin1', 'admin2', 'admin3', 'location',\n",
       "       'latitude', 'longitude', 'geo_precision', 'source', 'source_scale',\n",
       "       'notes', 'fatalities', 'tags', 'timestamp'],\n",
       "      dtype='object')"
      ]
     },
     "execution_count": 5,
     "metadata": {},
     "output_type": "execute_result"
    }
   ],
   "source": [
    "Isr_plst_conflict_df.columns"
   ]
  },
  {
   "cell_type": "markdown",
   "id": "07953cf4-d19a-4b00-a124-59f07aafc435",
   "metadata": {},
   "source": [
    "<a id='section1.1'></a>\n",
    "### <span style=\"color:blue\"> 1.1 Edit columns</span>"
   ]
  },
  {
   "cell_type": "markdown",
   "id": "dd244307-ea67-46a3-aa3b-7a805afc85ca",
   "metadata": {},
   "source": [
    "##### We dropped the 'year' column because there is another column in the data that indicates the date of each event.\n",
    "##### Additionally, we decided to focus on the year 2023, as the data does not provide complete information for events occurring in January 2024."
   ]
  },
  {
   "cell_type": "code",
   "execution_count": 6,
   "id": "1f74fddf-d4e8-4a93-bd0d-1e229fb41bbc",
   "metadata": {},
   "outputs": [],
   "source": [
    "Isr_plst_conflict_df.drop(columns=['year'], inplace=True)"
   ]
  },
  {
   "cell_type": "markdown",
   "id": "6aee8533-fb77-461c-b12c-c8cde86adc6a",
   "metadata": {},
   "source": [
    " ##### We dropped the 'region' column because the conflict concentrates only in the Middle East"
   ]
  },
  {
   "cell_type": "code",
   "execution_count": 7,
   "id": "d969757a-2299-4dbb-8a48-7e64e6bc294e",
   "metadata": {},
   "outputs": [],
   "source": [
    "Isr_plst_conflict_df.drop(columns=['region'], inplace=True)"
   ]
  },
  {
   "cell_type": "markdown",
   "id": "80f5f32d-a24f-4b9a-a772-701d5c153deb",
   "metadata": {},
   "source": [
    " #####  We change the `date` into a `datetime` object and extract the month"
   ]
  },
  {
   "cell_type": "code",
   "execution_count": 8,
   "id": "7dc3bec8-a31f-413f-9bb2-6f8c4d83fb04",
   "metadata": {},
   "outputs": [],
   "source": [
    "Isr_plst_conflict_df['event_date'] = pd.to_datetime(Isr_plst_conflict_df['event_date'])"
   ]
  },
  {
   "cell_type": "code",
   "execution_count": 9,
   "id": "1b3fac0c-2912-4845-b6ce-725368bb12cb",
   "metadata": {},
   "outputs": [],
   "source": [
    "Isr_plst_conflict_df['month'] = pd.DatetimeIndex(Isr_plst_conflict_df['event_date']).month\n",
    "Isr_plst_conflict_df['month'] = pd.DatetimeIndex(Isr_plst_conflict_df['event_date']).strftime('%B')"
   ]
  },
  {
   "cell_type": "markdown",
   "id": "c07cde4e-65ca-443e-a07f-e915f0eed7b8",
   "metadata": {},
   "source": [
    "<a id='section1.2'></a>\n",
    "### <span style=\"color:blue\"> 1.2 Missing values and fix columns</span>\n",
    "[back to top](#top)\n"
   ]
  },
  {
   "cell_type": "code",
   "execution_count": 10,
   "id": "48144385-3856-47d9-a9fe-5597ab71e724",
   "metadata": {},
   "outputs": [
    {
     "data": {
      "text/plain": [
       "assoc_actor_1         15575\n",
       "admin3                15235\n",
       "tags                  13894\n",
       "civilian_targeting    11632\n",
       "admin2                   10\n",
       "event_id_cnty             0\n",
       "timestamp                 0\n",
       "fatalities                0\n",
       "notes                     0\n",
       "source_scale              0\n",
       "source                    0\n",
       "geo_precision             0\n",
       "longitude                 0\n",
       "latitude                  0\n",
       "location                  0\n",
       "admin1                    0\n",
       "event_date                0\n",
       "country                   0\n",
       "iso                       0\n",
       "interaction               0\n",
       "inter1                    0\n",
       "actor1                    0\n",
       "sub_event_type            0\n",
       "event_type                0\n",
       "disorder_type             0\n",
       "time_precision            0\n",
       "month                     0\n",
       "dtype: int64"
      ]
     },
     "execution_count": 10,
     "metadata": {},
     "output_type": "execute_result"
    }
   ],
   "source": [
    "Isr_plst_conflict_df.isnull().sum().sort_values(ascending = False)"
   ]
  },
  {
   "cell_type": "markdown",
   "id": "03a7ed17-dae1-4138-b53f-878e7be8c88f",
   "metadata": {
    "tags": []
   },
   "source": [
    "#### We will examine each column separately"
   ]
  },
  {
   "cell_type": "markdown",
   "id": "5f3ff7b1-0bf0-4911-989f-4af66ee7d710",
   "metadata": {
    "tags": []
   },
   "source": [
    "### admin2"
   ]
  },
  {
   "cell_type": "markdown",
   "id": "27cf2d9e-c690-4a44-8318-2eef42a1a6f6",
   "metadata": {},
   "source": [
    "##### The second largest sub-national administrative region in which the event took place."
   ]
  },
  {
   "cell_type": "code",
   "execution_count": 11,
   "id": "4bf4ad5d-f034-4b0b-b823-135da4373777",
   "metadata": {},
   "outputs": [
    {
     "data": {
      "text/plain": [
       "10"
      ]
     },
     "execution_count": 11,
     "metadata": {},
     "output_type": "execute_result"
    }
   ],
   "source": [
    "Isr_plst_conflict_df['admin2'].isnull().sum()"
   ]
  },
  {
   "cell_type": "code",
   "execution_count": 12,
   "id": "a3dde496-a32d-4a2d-b4cc-b7147a80a81d",
   "metadata": {},
   "outputs": [
    {
     "data": {
      "text/plain": [
       "array(['Akko', 'Hadera', 'Petah Tiqwa', 'Tel Aviv', 'Haifa', 'Ashqelon',\n",
       "       'Jerusalem', 'Gaza City', 'Deir El Balah', 'Tulkarm', 'Nablus',\n",
       "       'Hebron', 'Jenin', 'Khan Yunis', 'North Gaza', 'Rafah',\n",
       "       'Ramallah and Al Bireh', 'Al Quds', 'Tubas', 'Qalqilya', 'Salfit',\n",
       "       'Zefat', 'Beer Sheva', 'Jericho', 'Bethlehem', 'Rehovot', 'Ramla',\n",
       "       'Yizreel', 'Kinneret', 'Sharon', nan], dtype=object)"
      ]
     },
     "execution_count": 12,
     "metadata": {},
     "output_type": "execute_result"
    }
   ],
   "source": [
    "Isr_plst_conflict_df['admin2'].unique()"
   ]
  },
  {
   "cell_type": "code",
   "execution_count": 13,
   "id": "d64b9a55-0c13-49e7-8dd9-406258d1898a",
   "metadata": {},
   "outputs": [],
   "source": [
    "Isr_plst_conflict_df = Isr_plst_conflict_df.dropna(subset=['admin2'])"
   ]
  },
  {
   "cell_type": "markdown",
   "id": "98cf6cdf-1f14-4eb5-81d4-eb73da604cff",
   "metadata": {},
   "source": [
    "##### In this column, there is no need to fill missing values since the number of rows is minimal compared to the entire rows in the data.\n",
    "##### We have removed them."
   ]
  },
  {
   "cell_type": "markdown",
   "id": "9497c03d-2150-401e-a8d4-c9f3fd7b83e2",
   "metadata": {},
   "source": [
    "### civilian_targeting"
   ]
  },
  {
   "cell_type": "markdown",
   "id": "063a44c4-36fb-4dea-8ec1-f0ac90331da6",
   "metadata": {},
   "source": [
    "##### This column indicates whether the event involved civilian targeting."
   ]
  },
  {
   "cell_type": "code",
   "execution_count": 14,
   "id": "a71a5312-a212-4008-8ed9-6b2743985777",
   "metadata": {},
   "outputs": [
    {
     "data": {
      "text/plain": [
       "11628"
      ]
     },
     "execution_count": 14,
     "metadata": {},
     "output_type": "execute_result"
    }
   ],
   "source": [
    "Isr_plst_conflict_df['civilian_targeting'].isnull().sum()"
   ]
  },
  {
   "cell_type": "code",
   "execution_count": 15,
   "id": "8ec348ba-b97f-4efa-9517-3c6fcfb956ca",
   "metadata": {},
   "outputs": [
    {
     "data": {
      "text/plain": [
       "array([nan, 'Civilian targeting'], dtype=object)"
      ]
     },
     "execution_count": 15,
     "metadata": {},
     "output_type": "execute_result"
    }
   ],
   "source": [
    "Isr_plst_conflict_df['civilian_targeting'].unique()"
   ]
  },
  {
   "cell_type": "markdown",
   "id": "2db80162-c1f9-46d2-a06e-a7e5b708a8c3",
   "metadata": {},
   "source": [
    "### tags"
   ]
  },
  {
   "cell_type": "markdown",
   "id": "cec0cf35-3be2-4543-9a4d-54bb79763962",
   "metadata": {},
   "source": [
    "##### Additional structured information about the event. "
   ]
  },
  {
   "cell_type": "code",
   "execution_count": 16,
   "id": "64ef46a0-914d-4fc6-9645-58b76aaf3ff4",
   "metadata": {},
   "outputs": [
    {
     "data": {
      "text/plain": [
       "13884"
      ]
     },
     "execution_count": 16,
     "metadata": {},
     "output_type": "execute_result"
    }
   ],
   "source": [
    "Isr_plst_conflict_df['tags'].isnull().sum()"
   ]
  },
  {
   "cell_type": "code",
   "execution_count": 17,
   "id": "03882627-f9ed-442d-9710-0417e2d10513",
   "metadata": {},
   "outputs": [
    {
     "data": {
      "text/plain": [
       "array([nan, 'crowd size=no report', 'crowd size=dozens',\n",
       "       'crowd size=about 300', 'crowd size=about 150',\n",
       "       'crowd size=at least 2,000', 'crowd size=hundreds',\n",
       "       'crowd size=thousands', 'crowd size=about 120,000',\n",
       "       'crowd size=at least 1,000', 'crowd size=several dozen',\n",
       "       'crowd size=about 1,000', 'crowd size=about 100',\n",
       "       'crowd size=around 10,000', 'crowd size=about 30',\n",
       "       'crowd size=about 40', 'crowd size=tens', 'crowd size=about 2,000',\n",
       "       'crowd size=about 20,000', 'crowd size=about 50',\n",
       "       'crowd size=at least 200', 'crowd size=4', 'crowd size=about 250',\n",
       "       'crowd size=about 20', 'crowd size=about 400',\n",
       "       'crowd size=hundred', 'crowd size=about 100,000',\n",
       "       'crowd size=about 200', 'crowd size=tens of thousands',\n",
       "       'crowd size=dozens to about 100', 'crowd size= over 20',\n",
       "       'crowd size=large', 'crowd size=dozens to hundreds',\n",
       "       'crowd size=over 30', 'crowd size=no report; local administrators',\n",
       "       'crowd size=several hundred', 'crowd size=more than 40',\n",
       "       'crowd size=six', 'crowd size=200', 'crowd size=seven',\n",
       "       'local administrators', 'crowd size=a few dozen',\n",
       "       'crowd size=over 100', 'crowd size=about 20 to 100'], dtype=object)"
      ]
     },
     "execution_count": 17,
     "metadata": {},
     "output_type": "execute_result"
    }
   ],
   "source": [
    "Isr_plst_conflict_df['tags'].unique()"
   ]
  },
  {
   "cell_type": "markdown",
   "id": "9ea58711-cbfb-4d0e-8c7a-1189923511ec",
   "metadata": {},
   "source": [
    "### admin3"
   ]
  },
  {
   "cell_type": "markdown",
   "id": "89d606c9-7d3c-4b5e-8afc-a5a1eb3dc355",
   "metadata": {},
   "source": [
    "##### The third largest sub-national administrative region in which the event took place."
   ]
  },
  {
   "cell_type": "code",
   "execution_count": 18,
   "id": "94eacefd-d335-42b9-a21c-f349549c5717",
   "metadata": {},
   "outputs": [
    {
     "data": {
      "text/plain": [
       "15225"
      ]
     },
     "execution_count": 18,
     "metadata": {},
     "output_type": "execute_result"
    }
   ],
   "source": [
    "Isr_plst_conflict_df['admin3'].isnull().sum()"
   ]
  },
  {
   "cell_type": "code",
   "execution_count": 19,
   "id": "550750a0-25fc-48df-8d88-f6e96dae5c61",
   "metadata": {},
   "outputs": [
    {
     "data": {
      "text/plain": [
       "array(['Elon', 'Alexander Mountain', 'Petah Tiqwa', 'Tel Aviv', 'Haifa',\n",
       "       'Akko', 'Ashqelon', 'Hadera', 'Judean Mountains', nan, 'Yehiam',\n",
       "       'Eastern Upper Galilee', 'Besor', 'Nahariyya', 'Hula Basin',\n",
       "       'Gerar', 'Southern Sharon', 'Ashdod', 'Rehovot', 'Rishon LeZiyyon',\n",
       "       'Ramle', 'Modiin', 'Nazareth-Tiran Mountains', 'Hazor Region',\n",
       "       'Arava', 'Lakhish', 'Malakhi', 'Kinnerot', 'Western Sharon',\n",
       "       'Judean Foothills', 'Beer Sheva', 'Yoqneam', 'Yizreel',\n",
       "       'Bet Shean Basin', 'Northern Negev Mountain', 'Eastern Sharon',\n",
       "       'Harod Valley', 'Carmel Coast', 'Shefaram', 'Zikhron Yaakov'],\n",
       "      dtype=object)"
      ]
     },
     "execution_count": 19,
     "metadata": {},
     "output_type": "execute_result"
    }
   ],
   "source": [
    "Isr_plst_conflict_df['admin3'].unique()"
   ]
  },
  {
   "cell_type": "markdown",
   "id": "97c5fb98-15c3-4609-9355-e0cc68b2a3e3",
   "metadata": {},
   "source": [
    "### assoc_actor_1"
   ]
  },
  {
   "cell_type": "markdown",
   "id": "d7b4a74a-563a-4181-baff-2af557e73679",
   "metadata": {},
   "source": [
    " ##### Actor(s) involved in the event alongside ‘Actor 1’ or actor designations that further identify ‘Actor 1’."
   ]
  },
  {
   "cell_type": "code",
   "execution_count": 20,
   "id": "23f3e61b-4004-4298-9ee4-430e1a45ffba",
   "metadata": {},
   "outputs": [
    {
     "data": {
      "text/plain": [
       "15565"
      ]
     },
     "execution_count": 20,
     "metadata": {},
     "output_type": "execute_result"
    }
   ],
   "source": [
    "Isr_plst_conflict_df['assoc_actor_1'].isnull().sum()"
   ]
  },
  {
   "cell_type": "code",
   "execution_count": 21,
   "id": "491de501-299e-4ab9-9b4a-553e1ce568a0",
   "metadata": {},
   "outputs": [
    {
     "data": {
      "text/plain": [
       "array([nan, 'Military Forces of Israel (2022-)', 'Students (Israel)',\n",
       "       'Women (Israel)', 'Rioters (Palestine)',\n",
       "       'Refugees/IDPs (Palestine)', 'Muslim Group (Palestine)',\n",
       "       'Hamas Movement', 'Settlers (Israel)',\n",
       "       'Standing Together; Arab Ethnic Group (Israel); Jewish Group (Israel); Women Wage Peace; Former Government of Israel (2022-); Joint List',\n",
       "       'Journalists (Palestine)', 'Farmers (Palestine)',\n",
       "       'Katibat Qalqilya - Quick Response',\n",
       "       'Bedouin Ethnic Group (Palestine); Farmers (Palestine)',\n",
       "       'Rioters (Palestine); Refugees/IDPs (Palestine)',\n",
       "       'PIJ: Palestinian Islamic Jihad',\n",
       "       'Settlers (Israel); Military Forces of Israel (2022-)',\n",
       "       'Katibat Tulkarm; Rioters (Palestine)',\n",
       "       'Health Workers (Palestine); Aid Workers (Palestine); Palestinian Red Crescent Society; Refugees/IDPs (Palestine)',\n",
       "       'Farmers (Israel)',\n",
       "       'Refugees/IDPs (Palestine); Mujahideen Brigades',\n",
       "       'Fishers (Palestine)',\n",
       "       'DFLP: Democratic Front for the Liberation of Palestine; PIJ: Palestinian Islamic Jihad',\n",
       "       'Civilians (Palestine); Labor Group (Palestine)',\n",
       "       \"Palestinian Prisoner's Society\", 'Students (Palestine)',\n",
       "       'Government of Israel (2022-); National Unity Party; Kahol Lavan: Blue and White; Yesh Atid',\n",
       "       'Labor Group (Palestine)', 'Former Government of Israel (2022-)',\n",
       "       'Former Government of Israel (2022-); Likud Party',\n",
       "       'Labor Group (Palestine); Refugees/IDPs (Palestine)',\n",
       "       'Hamas Movement; Rioters (Palestine); Refugees/IDPs (Palestine)',\n",
       "       'Al Aqsa Martyrs Brigade; Katibat Tulkarm',\n",
       "       'Katibat Jaba; Rioters (Palestine)', 'Lions of Glory',\n",
       "       'Government of Palestine (1994-) Palestinian National Authority; PLO: Palestinian Liberation Organisation; Labor Group (Palestine)',\n",
       "       'Arab Ethnic Group (Israel)',\n",
       "       'Students (Israel); Government of Israel (2022-); Otzma Yehudit',\n",
       "       'Health Workers (Palestine)',\n",
       "       'Katibat Nablus; Rioters (Palestine)',\n",
       "       'Palestinian Red Crescent Society; Aid Workers (Palestine); Journalists (Palestine)',\n",
       "       'Tulkarm Youth of Revenge and Liberation; Katibat Tulkarm',\n",
       "       'Students (Israel); Im Tirtzu',\n",
       "       'Refugees/IDPs (Palestine); UNRWA: United Nations Relief and Works Agency',\n",
       "       'MSF: Doctors Without Borders; Aid Workers (International); Journalists (Palestine)',\n",
       "       'Refugees/IDPs (Palestine); Journalists (Palestine)',\n",
       "       'Hamas Movement; PIJ: Palestinian Islamic Jihad',\n",
       "       'Civilians (Israel)', 'Christian Group (Palestine)',\n",
       "       'The Islamic Group (Lebanon)',\n",
       "       'Refugees/IDPs (Palestine); Health Workers (Palestine)',\n",
       "       'Military Forces of Israel (2022-); Police Forces of Israel (2022-); Farmers (Israel)',\n",
       "       'Rioters (Palestine); Refugees/IDPs (Palestine); Health Workers (Palestine)',\n",
       "       'Palestinian Red Crescent Society; Aid Workers (Palestine)',\n",
       "       'Refugees/IDPs (Palestine); Health Workers (Palestine); Civilians (Palestine)',\n",
       "       'Hamas Movement; Christian Group (Palestine)', 'Katibat Tulkarm',\n",
       "       'Bedouin Ethnic Group (Palestine)', 'Mujahideen Brigades',\n",
       "       'Refugees/IDPs (Palestine); Muslim Group (Palestine)',\n",
       "       'Rioters (Palestine); Refugees/IDPs (Palestine); Journalists (Palestine); Tulkarm Youth of Revenge and Liberation',\n",
       "       'Rioters (Palestine); Katibat Jenin; Katibat Qabatiyah',\n",
       "       'Rioters (Palestine); Refugees/IDPs (Palestine); Katibat Jenin; Katibat Qabatiyah',\n",
       "       'Fatah Movement; Palestinian National and Islamic Forces',\n",
       "       'Women (Palestine)', 'Katibat Jenin',\n",
       "       'Refugees/IDPs (Palestine); Hamas Movement',\n",
       "       'Palestinian Red Crescent Society; Journalists (Palestine); Aid Workers (Palestine)',\n",
       "       'Labor Group (Israel)',\n",
       "       'Farmers (Palestine); Labor Group (Palestine)',\n",
       "       'Katibat Jund Allah', 'Prisoners (Palestine)',\n",
       "       'Civilians (Palestine)', 'Tulkarm Youth of Revenge and Liberation',\n",
       "       'Katibat Birqin', 'Police Forces of Israel (2022-)',\n",
       "       'Government of Palestine (2007-) Hamas Government in Gaza',\n",
       "       'Former Government of Israel (2022-); Meretz Party',\n",
       "       'Hamas Movement; Al Nasser Salah al Deen Brigades',\n",
       "       'Rioters (Israel); Settlers (Israel)',\n",
       "       'Hamas Movement; DFLP: Democratic Front for the Liberation of Palestine; PFLP: Popular Front for the Liberation of Palestine',\n",
       "       'Arab Ethnic Group (Israel); High Follow-Up Committee',\n",
       "       'Standing Together; Arab Ethnic Group (Israel); Jewish Group (Israel)',\n",
       "       'Al Aqsa Martyrs Brigade',\n",
       "       'Fatah Movement; Commission of Detainees and Ex-Detainees Affairs',\n",
       "       'Police Forces of Israel (2022-) Border Police',\n",
       "       'Settlers (Israel); Farmers (Israel)',\n",
       "       'PFLP: Popular Front for the Liberation of Palestine',\n",
       "       'Refugees/IDPs (Palestine); Mujahideen Brigades; PIJ: Palestinian Islamic Jihad',\n",
       "       'Mujahideen Brigades; Rioters (Palestine); Refugees/IDPs (Palestine)',\n",
       "       'DFLP: Democratic Front for the Liberation of Palestine',\n",
       "       'Police Forces of Palestine (1994-) West Bank',\n",
       "       'Palestinian National and Islamic Forces; Hamas Movement',\n",
       "       'PIJ: Palestinian Islamic Jihad; PFLP: Popular Front for the Liberation of Palestine',\n",
       "       'Popular Resistance Movement',\n",
       "       'Police Forces of Palestine (2007-) Gaza Strip',\n",
       "       'Journalists (Palestine); Muslim Group (Palestine)',\n",
       "       'Palestinian National and Islamic Forces; Women (Palestine)',\n",
       "       'Journalists (Palestine); Civilians (Palestine)',\n",
       "       'Health Workers (Palestine); Refugees/IDPs (Palestine)',\n",
       "       'Hamas Movement; Students (Palestine)',\n",
       "       'Mujahideen Brigades; PIJ: Palestinian Islamic Jihad',\n",
       "       'Unidentified Armed Group (Palestine)',\n",
       "       'Christian Group (Palestine); Refugees/IDPs (Palestine)',\n",
       "       'PIJ: Palestinian Islamic Jihad; Rioters (Palestine); Refugees/IDPs (Palestine)',\n",
       "       'Refugees/IDPs (Palestine); Journalists (Palestine); Labor Group (Palestine); Health Workers (Palestine)',\n",
       "       'Refugees/IDPs (Palestine); Rioters (Palestine)',\n",
       "       'UNRWA: United Nations Relief and Works Agency; Refugees/IDPs (Palestine); Journalists (Palestine)',\n",
       "       'PIJ: Palestinian Islamic Jihad; Mujahideen Brigades',\n",
       "       'Refugees/IDPs (Palestine); Rioters (Palestine); Katibat Jenin; Hamas Movement; PFLP: Popular Front for the Liberation of Palestine; Mujahideen Brigades',\n",
       "       'Refugees/IDPs (Palestine); Women (Palestine)',\n",
       "       'UNRWA: United Nations Relief and Works Agency',\n",
       "       'Military Forces of Israel (2022-) Golani Brigade',\n",
       "       'Hizb Ettahrir', 'Students (Palestine); Teachers (Palestine)',\n",
       "       'Palestinian National and Islamic Forces', 'Jewish Group (Israel)',\n",
       "       'Health Workers (Palestine); Women (Palestine)',\n",
       "       'Settlers (Israel); Jewish Group (Israel)', 'Fatah Movement',\n",
       "       'Rioters (Palestine); Hamas Movement',\n",
       "       'Rioters (Palestine); Hamas Movement; Refugees/IDPs (Palestine)',\n",
       "       'PIJ: Palestinian Islamic Jihad; Al Aqsa Martyrs Brigade; DFLP: Democratic Front for the Liberation of Palestine',\n",
       "       \"Commission of Detainees and Ex-Detainees Affairs; Palestinian Committee of Prisoners' Affairs\",\n",
       "       'Government of Palestine (2007-) Hamas Government in Gaza; Hamas Movement',\n",
       "       'Muslim Group (Palestine); Refugees/IDPs (Palestine)',\n",
       "       'Katibat Jenin; Mujahideen Brigades',\n",
       "       \"Palestinian Committee of Prisoners' Affairs\",\n",
       "       'Civilians (Thailand)',\n",
       "       \"Palestinian Committee of Prisoners' Affairs; Palestinian National and Islamic Forces\",\n",
       "       'Government of Israel (2022-)',\n",
       "       'Rioters (Palestine); PIJ: Palestinian Islamic Jihad; Al Aqsa Martyrs Brigade',\n",
       "       'Health Workers (Palestine); Palestinian Red Crescent Society; Aid Workers (Palestine)',\n",
       "       'Druze Group (Israel); Government of Israel (2022-); Yesh Atid',\n",
       "       'Rioters (Palestine); Health Workers (Palestine)',\n",
       "       'Refugees/IDPs (Palestine); Katibat Jenin',\n",
       "       'Civilians (Palestine); Journalists (Palestine)',\n",
       "       'Civilians (International)',\n",
       "       'Refugees/IDPs (Palestine); Labor Group (Palestine)',\n",
       "       'Refugees/IDPs (Palestine); Students (Palestine)',\n",
       "       'BDS: Boycott, Divestment and Sanctions Movement',\n",
       "       'Commission of Detainees and Ex-Detainees Affairs; Women (Palestine)',\n",
       "       'Palestinian National and Islamic Forces; Fatah Movement; Government of Palestine (1994-) Palestinian National Authority; Women (Palestine)',\n",
       "       'Private Security Forces (Israel)',\n",
       "       'Settlers (Israel); Rioters (Israel)',\n",
       "       'Health Workers (Palestine); Labor Group (Palestine)',\n",
       "       'Journalists (Palestine); Women (Palestine)',\n",
       "       'Journalists (International)',\n",
       "       'MSF: Doctors Without Borders; Aid Workers (International); Health Workers (Palestine)',\n",
       "       'Government of Israel (2022-); Yesh Atid',\n",
       "       'Students (Palestine); Teachers (Palestine); Civilians (Israel)',\n",
       "       'Health Workers (Jordan)',\n",
       "       'Government of Israel (2022-); Hadash; Arab Ethnic Group (Israel); Jewish Group (Israel); Former Government of Israel (2022-); HaAvoda: Israeli Labour Party; Joint List',\n",
       "       'Rioters (Palestine); Fatah Movement; Hamas Movement; Refugees/IDPs (Palestine)',\n",
       "       \"Prisoners (Palestine); Palestinian Committee of Prisoners' Affairs; Fatah Movement; Palestinian National and Islamic Forces\",\n",
       "       'Muslim Group (Palestine); Journalists (Palestine)',\n",
       "       'Government of Israel (2022-); Likud Party; Religious Zionist Party',\n",
       "       'Women (Palestine); Muslim Group (Palestine)',\n",
       "       'Al Ahrar: Palestininian Freedom Movement',\n",
       "       'Government of Israel (2022-); Shas; Likud Party; Religious Zionist Party; Yisrael Beytenu; Yesh Atid; HaAvoda: Israeli Labour Party',\n",
       "       'Settlers (Israel); Police Forces of Israel (2022-)',\n",
       "       'Armenian Ethnic Group (Palestine)',\n",
       "       'PIJ: Palestinian Islamic Jihad; Al Nasser Salah al Deen Brigades',\n",
       "       'Students (Palestine); Women (Palestine)',\n",
       "       'Government of Palestine (1994-) Palestinian National Authority',\n",
       "       'Aid Workers (Palestine)',\n",
       "       'Al Aqsa Martyrs Brigade; Rioters (Palestine)',\n",
       "       'Fatah Movement; Government of Palestine (1994-) Palestinian National Authority',\n",
       "       'Refugees/IDPs (Palestine); Civilians (Palestine)',\n",
       "       'Christian Group (Palestine); Government of Palestine (1994-) Palestinian National Authority; Students (Palestine)',\n",
       "       'Former Government of Israel (2022-); Yesh Atid',\n",
       "       'UN: United Nations; Refugees/IDPs (Palestine)',\n",
       "       'Health Workers (Israel)', 'Hadash',\n",
       "       'Arab Ethnic Group (Israel); Hadash',\n",
       "       'Police Forces of Israel (2022-) Shin Bet',\n",
       "       'Katibat Jenin; Al Aqsa Martyrs Brigade; PFLP: Popular Front for the Liberation of Palestine',\n",
       "       'ICRC: International Committee of the Red Cross; Aid Workers (Palestine)',\n",
       "       'Military Forces of Israel (2022-); Farmers (Israel)',\n",
       "       'Commission of Detainees and Ex-Detainees Affairs; Students (Palestine)',\n",
       "       'Katibat Tulkarm - Quick Response; Katibat Al Fajr; Rioters (Palestine); Refugees/IDPs (Palestine)',\n",
       "       'ICRC: International Committee of the Red Cross; Aid Workers (Palestine); Labor Group (Palestine)',\n",
       "       'Hamas Movement; Katibat Tulkarm - Quick Response',\n",
       "       'Police Forces of Israel (2022-); Police Forces of Israel (2022-) Shin Bet',\n",
       "       'Private Security Forces (Palestine)',\n",
       "       'Fatah Movement; Hamas Movement',\n",
       "       'Hamas Movement; DFLP: Democratic Front for the Liberation of Palestine',\n",
       "       'Health Workers (Palestine); Journalists (Palestine)',\n",
       "       'Rioters (Israel)',\n",
       "       'Palestinian National and Islamic Forces; Christian Group (Palestine); Labor Group (Palestine)',\n",
       "       'Rioters (Palestine); Al Aqsa Martyrs Brigade', 'Hezbollah',\n",
       "       'Haredi Jewish Group (Israel)',\n",
       "       'Palestinian National and Islamic Forces; Fatah Movement',\n",
       "       'UN: United Nations',\n",
       "       'Katibat Tulkarm - Quick Response; Katibat Tulkarm; Rioters (Palestine)',\n",
       "       'Bedouin Ethnic Group (Israel)',\n",
       "       'Palestinian National and Islamic Forces; Hamas Movement; Students (Palestine)',\n",
       "       'Students (Palestine); Muslim Group (Palestine)',\n",
       "       'Fatah Movement; Refugees/IDPs (Palestine)',\n",
       "       'Military Forces of Israel (2022-); Settlers (Israel)',\n",
       "       'Civilians (Palestine); Refugees/IDPs (Palestine)',\n",
       "       'Health Workers (Palestine); Civilians (Palestine)',\n",
       "       'Palestinian National and Islamic Forces; Muslim Group (Palestine)',\n",
       "       'Katibat Jenin; Rioters (Palestine)',\n",
       "       'Refugees/IDPs (Palestine); Al Aqsa Martyrs Brigade',\n",
       "       'Students (Israel); Arab Ethnic Group (Israel)',\n",
       "       'Muslim Group (Palestine); Health Workers (Palestine)',\n",
       "       'Civilians (Palestine); Farmers (Palestine)',\n",
       "       'Farmers (International)', 'Labor Group (Yemen)',\n",
       "       \"Palestinian Committee of Prisoners' Affairs; Commission of Detainees and Ex-Detainees Affairs\",\n",
       "       'Fatah Movement; Government of Palestine (1994-) Palestinian National Authority; PLO: Palestinian Liberation Organisation',\n",
       "       'Fatah Movement; Students (Palestine)',\n",
       "       'Health Workers (Palestine); Government of Palestine (1994-) Palestinian National Authority',\n",
       "       \"Fatah Movement; Palestinian Committee of Prisoners' Affairs\",\n",
       "       \"Students (Palestine); Lions' Den\",\n",
       "       'Hamas Movement; Rioters (Palestine)',\n",
       "       \"Prisoners (Palestine); Palestinian Committee of Prisoners' Affairs\",\n",
       "       'Muslim Group (Palestine); AWCSW: The Association of Women Committees for Social Work; Women (Palestine)',\n",
       "       'Teachers (Palestine); Students (Palestine)',\n",
       "       'Commission of Detainees and Ex-Detainees Affairs',\n",
       "       'Labor Group (Thailand)',\n",
       "       'Refugees/IDPs (Palestine); Fatah Movement; Palestinian National and Islamic Forces',\n",
       "       'Katibat Tulkarm; Katibat Tulkarm - Quick Response',\n",
       "       'Hamas Movement; Government of Palestine (1994-) Palestinian National Authority',\n",
       "       'Hamas Movement; Former Government of Palestine (1994-) Palestinian National Authority',\n",
       "       'Fatah Movement; AWCSW: The Association of Women Committees for Social Work',\n",
       "       'Katibat Tulkarm - Quick Response',\n",
       "       'Christian Group (Palestine); Muslim Group (Palestine)',\n",
       "       'Health Workers (Palestine); Fatah Movement',\n",
       "       'Health Workers (Palestine); Palestinian National and Islamic Forces',\n",
       "       'Muslim Group (Palestine); Refugees/IDPs (Palestine); Labor Group (Palestine)',\n",
       "       'Unidentified Armed Group (Israel); Settlers (Israel)',\n",
       "       'Rioters (Palestine); PIJ: Palestinian Islamic Jihad',\n",
       "       'Hamas Movement; Fatah Movement',\n",
       "       'Palestinian National and Islamic Forces; Commission of Detainees and Ex-Detainees Affairs',\n",
       "       'Refugees/IDPs (Palestine); Rioters (Palestine); PIJ: Palestinian Islamic Jihad',\n",
       "       'Refugees/IDPs (Palestine); Journalists (Palestine); Civilians (Palestine)',\n",
       "       'Refugees/IDPs (Palestine); Police Forces of Palestine (2007-) Gaza Strip; Hamas Movement',\n",
       "       'Rioters (International)',\n",
       "       'Arab Ethnic Group (Israel); Labor Group (Israel)',\n",
       "       'Civilians (Israel); Arab Ethnic Group (Israel)',\n",
       "       'Bedouin Ethnic Group (Israel); Bedouin Tribal Militia (Israel)',\n",
       "       'Government of Palestine (1994-) Palestinian National Authority; Civilians (Israel)',\n",
       "       'Refugees/IDPs (Palestine); Unidentified Armed Group (Palestine)',\n",
       "       'Settlers (Israel); Police Forces of Israel (2022-) Border Police',\n",
       "       'Journalists (Palestine); Fatah Movement; Government of Palestine (1994-) Palestinian National Authority',\n",
       "       'Labor Group (International)',\n",
       "       'Hamas Movement; Refugees/IDPs (Palestine)',\n",
       "       'PIJ: Palestinian Islamic Jihad; Hamas Movement; Al Aqsa Martyrs Brigade; Al Nasser Salah al Deen Brigades',\n",
       "       'Police Forces of Israel (2022-) Shin Bet; Police Forces of Israel (2022-) Border Police',\n",
       "       'Civilians (Palestine); Health Workers (Palestine)',\n",
       "       'Palestinian National and Islamic Forces; Refugees/IDPs (Palestine)',\n",
       "       'Arab Ethnic Group (Israel); Muslim Group (Israel)',\n",
       "       'Lawyers (Palestine)', 'Unidentified Armed Group (Israel)',\n",
       "       'Bedouin Ethnic Group (Israel); Arab Ethnic Group (Israel); Civilians (Palestine); Labor Group (Palestine)',\n",
       "       'Journalists (Israel)',\n",
       "       'Students (Nepal); Civilians (Thailand); Students (Thailand); Labor Group (Thailand); Labor Group (Nepal)',\n",
       "       'Civilians (International); Labor Group (International)',\n",
       "       'Women (Israel); Civilians (Argentina); Women (Argentina)',\n",
       "       'Colonization and Wall Resistance Commission',\n",
       "       'Protesters (International)',\n",
       "       'Eritrean Group (Israel); Women (Israel)',\n",
       "       'Al Aqsa Martyrs Brigade; Refugees/IDPs (Palestine)',\n",
       "       'Katibat Tulkarm - Quick Response; Hamas Movement; Al Aqsa Martyrs Brigade; Refugees/IDPs (Palestine)',\n",
       "       'Police Forces of Israel (2022-) Border Police; Police Forces of Israel (2022-) Yamam',\n",
       "       'Students (Palestine); Fatah Movement; Commission of Detainees and Ex-Detainees Affairs',\n",
       "       \"Al Aqsa Martyrs Brigade; Katibat Al Fajr; Lions' Den; Rioters (Palestine)\",\n",
       "       'Former Government of Israel (2022-); HaAvoda: Israeli Labour Party; Former Military Forces of Israel (2022-)'],\n",
       "      dtype=object)"
      ]
     },
     "execution_count": 21,
     "metadata": {},
     "output_type": "execute_result"
    }
   ],
   "source": [
    "Isr_plst_conflict_df['assoc_actor_1'].unique()"
   ]
  },
  {
   "cell_type": "code",
   "execution_count": 22,
   "id": "9c227377-d09f-4e29-9154-5a422c73c870",
   "metadata": {},
   "outputs": [],
   "source": [
    "Isr_plst_conflict_df= Isr_plst_conflict_df.fillna(\"Unknown\")"
   ]
  },
  {
   "cell_type": "markdown",
   "id": "2b1bf591-a94e-44cd-888a-7fc166df59b2",
   "metadata": {
    "tags": []
   },
   "source": [
    " ##### Building a column that refers to the day of the month and checking which day had the most events"
   ]
  },
  {
   "cell_type": "code",
   "execution_count": 60,
   "id": "79f13888-de37-4365-a06f-0538c84ae222",
   "metadata": {},
   "outputs": [
    {
     "data": {
      "text/html": [
       "<div>\n",
       "<style scoped>\n",
       "    .dataframe tbody tr th:only-of-type {\n",
       "        vertical-align: middle;\n",
       "    }\n",
       "\n",
       "    .dataframe tbody tr th {\n",
       "        vertical-align: top;\n",
       "    }\n",
       "\n",
       "    .dataframe thead th {\n",
       "        text-align: right;\n",
       "    }\n",
       "</style>\n",
       "<table border=\"1\" class=\"dataframe\">\n",
       "  <thead>\n",
       "    <tr style=\"text-align: right;\">\n",
       "      <th></th>\n",
       "      <th>day_month</th>\n",
       "      <th>event_date</th>\n",
       "    </tr>\n",
       "  </thead>\n",
       "  <tbody>\n",
       "    <tr>\n",
       "      <th>0</th>\n",
       "      <td>19-01</td>\n",
       "      <td>2024-01-19</td>\n",
       "    </tr>\n",
       "    <tr>\n",
       "      <th>1</th>\n",
       "      <td>19-01</td>\n",
       "      <td>2024-01-19</td>\n",
       "    </tr>\n",
       "    <tr>\n",
       "      <th>2</th>\n",
       "      <td>19-01</td>\n",
       "      <td>2024-01-19</td>\n",
       "    </tr>\n",
       "    <tr>\n",
       "      <th>3</th>\n",
       "      <td>19-01</td>\n",
       "      <td>2024-01-19</td>\n",
       "    </tr>\n",
       "    <tr>\n",
       "      <th>4</th>\n",
       "      <td>19-01</td>\n",
       "      <td>2024-01-19</td>\n",
       "    </tr>\n",
       "  </tbody>\n",
       "</table>\n",
       "</div>"
      ],
      "text/plain": [
       "  day_month event_date\n",
       "0     19-01 2024-01-19\n",
       "1     19-01 2024-01-19\n",
       "2     19-01 2024-01-19\n",
       "3     19-01 2024-01-19\n",
       "4     19-01 2024-01-19"
      ]
     },
     "execution_count": 60,
     "metadata": {},
     "output_type": "execute_result"
    }
   ],
   "source": [
    "Isr_plst_conflict_df['day_month'] = pd.DatetimeIndex(Isr_plst_conflict_df['event_date']).strftime('%d-%m')\n",
    "Isr_plst_conflict_df[[\"day_month\",'event_date']].head()"
   ]
  },
  {
   "cell_type": "code",
   "execution_count": 61,
   "id": "17f8db31-1a82-4d52-a9a0-9d1f9ac0a8f2",
   "metadata": {},
   "outputs": [
    {
     "data": {
      "image/png": "[encoded data removed]",
      "text/plain": [
       "<Figure size 640x480 with 1 Axes>"
      ]
     },
     "metadata": {},
     "output_type": "display_data"
    }
   ],
   "source": [
    "october_data_until_14 = Isr_plst_conflict_df[(Isr_plst_conflict_df['month'] == 'October') & (Isr_plst_conflict_df['event_date'] <= '2023-10-14')]\n",
    "events_per_day_until_14 = october_data_until_14.groupby('day_month').size().reset_index(name='events_count')\n",
    "sns.lineplot(data=events_per_day_until_14, x='day_month', y='events_count')\n",
    "plt.xticks(rotation=45, ha='right', rotation_mode='anchor') \n",
    "plt.xlabel(\"\")\n",
    "plt.ylabel(\"number of events\")\n",
    "plt.show()"
   ]
  },
  {
   "cell_type": "markdown",
   "id": "042a9964-8394-4e4b-88f9-1e5af354d1cf",
   "metadata": {
    "tags": []
   },
   "source": [
    "# <span style=\"color:blue\"> 2.1 First Observation</span>"
   ]
  },
  {
   "cell_type": "markdown",
   "id": "3f04e969-4647-4cc0-b59d-40fa1246c616",
   "metadata": {},
   "source": [
    "### Before October 7th, there was calm, and because the war broke out on October 7th, it was expected that there would be the most events on that day, which actually does not happen, and instead, the highest concentration of events is a few days after the outbreak of the war."
   ]
  },
  {
   "cell_type": "code",
   "execution_count": 25,
   "id": "51b311c8-d264-4d12-82a1-a8e15ad42707",
   "metadata": {},
   "outputs": [
    {
     "data": {
      "text/html": [
       "<div>\n",
       "<style scoped>\n",
       "    .dataframe tbody tr th:only-of-type {\n",
       "        vertical-align: middle;\n",
       "    }\n",
       "\n",
       "    .dataframe tbody tr th {\n",
       "        vertical-align: top;\n",
       "    }\n",
       "\n",
       "    .dataframe thead th {\n",
       "        text-align: right;\n",
       "    }\n",
       "</style>\n",
       "<table border=\"1\" class=\"dataframe\">\n",
       "  <thead>\n",
       "    <tr style=\"text-align: right;\">\n",
       "      <th></th>\n",
       "      <th>event_id_cnty</th>\n",
       "      <th>event_date</th>\n",
       "      <th>time_precision</th>\n",
       "      <th>disorder_type</th>\n",
       "      <th>event_type</th>\n",
       "      <th>sub_event_type</th>\n",
       "      <th>actor1</th>\n",
       "      <th>assoc_actor_1</th>\n",
       "      <th>inter1</th>\n",
       "      <th>interaction</th>\n",
       "      <th>...</th>\n",
       "      <th>longitude</th>\n",
       "      <th>geo_precision</th>\n",
       "      <th>source</th>\n",
       "      <th>source_scale</th>\n",
       "      <th>notes</th>\n",
       "      <th>fatalities</th>\n",
       "      <th>tags</th>\n",
       "      <th>timestamp</th>\n",
       "      <th>month</th>\n",
       "      <th>day_month</th>\n",
       "    </tr>\n",
       "  </thead>\n",
       "  <tbody>\n",
       "    <tr>\n",
       "      <th>0</th>\n",
       "      <td>ISR38822</td>\n",
       "      <td>2024-01-19</td>\n",
       "      <td>1</td>\n",
       "      <td>Political violence</td>\n",
       "      <td>Explosions/Remote violence</td>\n",
       "      <td>Shelling/artillery/missile attack</td>\n",
       "      <td>Hezbollah</td>\n",
       "      <td>Unknown</td>\n",
       "      <td>3</td>\n",
       "      <td>30</td>\n",
       "      <td>...</td>\n",
       "      <td>35.2201</td>\n",
       "      <td>2</td>\n",
       "      <td>Ynet</td>\n",
       "      <td>National</td>\n",
       "      <td>On 19 January 2024, Hezbollah forces in Lebano...</td>\n",
       "      <td>0</td>\n",
       "      <td>Unknown</td>\n",
       "      <td>1705978255</td>\n",
       "      <td>January</td>\n",
       "      <td>19-01</td>\n",
       "    </tr>\n",
       "    <tr>\n",
       "      <th>1</th>\n",
       "      <td>ISR38830</td>\n",
       "      <td>2024-01-19</td>\n",
       "      <td>1</td>\n",
       "      <td>Demonstrations</td>\n",
       "      <td>Protests</td>\n",
       "      <td>Peaceful protest</td>\n",
       "      <td>Protesters (Israel)</td>\n",
       "      <td>Military Forces of Israel (2022-)</td>\n",
       "      <td>6</td>\n",
       "      <td>60</td>\n",
       "      <td>...</td>\n",
       "      <td>35.0208</td>\n",
       "      <td>1</td>\n",
       "      <td>Israel Hayom</td>\n",
       "      <td>National</td>\n",
       "      <td>On 19 January 2024, army reservists and relati...</td>\n",
       "      <td>0</td>\n",
       "      <td>crowd size=no report</td>\n",
       "      <td>1705978255</td>\n",
       "      <td>January</td>\n",
       "      <td>19-01</td>\n",
       "    </tr>\n",
       "    <tr>\n",
       "      <th>2</th>\n",
       "      <td>ISR38864</td>\n",
       "      <td>2024-01-19</td>\n",
       "      <td>1</td>\n",
       "      <td>Demonstrations</td>\n",
       "      <td>Protests</td>\n",
       "      <td>Peaceful protest</td>\n",
       "      <td>Protesters (Israel)</td>\n",
       "      <td>Students (Israel)</td>\n",
       "      <td>6</td>\n",
       "      <td>60</td>\n",
       "      <td>...</td>\n",
       "      <td>34.8875</td>\n",
       "      <td>1</td>\n",
       "      <td>Haaretz</td>\n",
       "      <td>National</td>\n",
       "      <td>On 19 January 2024, dozens of high school stud...</td>\n",
       "      <td>0</td>\n",
       "      <td>crowd size=dozens</td>\n",
       "      <td>1705978256</td>\n",
       "      <td>January</td>\n",
       "      <td>19-01</td>\n",
       "    </tr>\n",
       "    <tr>\n",
       "      <th>3</th>\n",
       "      <td>ISR38867</td>\n",
       "      <td>2024-01-19</td>\n",
       "      <td>1</td>\n",
       "      <td>Demonstrations</td>\n",
       "      <td>Protests</td>\n",
       "      <td>Peaceful protest</td>\n",
       "      <td>Protesters (Israel)</td>\n",
       "      <td>Women (Israel)</td>\n",
       "      <td>6</td>\n",
       "      <td>60</td>\n",
       "      <td>...</td>\n",
       "      <td>34.7806</td>\n",
       "      <td>1</td>\n",
       "      <td>Haaretz</td>\n",
       "      <td>National</td>\n",
       "      <td>On 19 January 2024, dozens of women and relati...</td>\n",
       "      <td>0</td>\n",
       "      <td>crowd size=dozens</td>\n",
       "      <td>1705978256</td>\n",
       "      <td>January</td>\n",
       "      <td>19-01</td>\n",
       "    </tr>\n",
       "    <tr>\n",
       "      <th>4</th>\n",
       "      <td>ISR38868</td>\n",
       "      <td>2024-01-19</td>\n",
       "      <td>1</td>\n",
       "      <td>Strategic developments</td>\n",
       "      <td>Strategic developments</td>\n",
       "      <td>Disrupted weapons use</td>\n",
       "      <td>Military Forces of Israel (2022-)</td>\n",
       "      <td>Unknown</td>\n",
       "      <td>1</td>\n",
       "      <td>13</td>\n",
       "      <td>...</td>\n",
       "      <td>34.9885</td>\n",
       "      <td>2</td>\n",
       "      <td>Calcalist; Colbo News; Haaretz; Jerusalem Post...</td>\n",
       "      <td>Subnational-National</td>\n",
       "      <td>Interception: On 19 January 2024, Israeli mili...</td>\n",
       "      <td>0</td>\n",
       "      <td>Unknown</td>\n",
       "      <td>1705978256</td>\n",
       "      <td>January</td>\n",
       "      <td>19-01</td>\n",
       "    </tr>\n",
       "    <tr>\n",
       "      <th>...</th>\n",
       "      <td>...</td>\n",
       "      <td>...</td>\n",
       "      <td>...</td>\n",
       "      <td>...</td>\n",
       "      <td>...</td>\n",
       "      <td>...</td>\n",
       "      <td>...</td>\n",
       "      <td>...</td>\n",
       "      <td>...</td>\n",
       "      <td>...</td>\n",
       "      <td>...</td>\n",
       "      <td>...</td>\n",
       "      <td>...</td>\n",
       "      <td>...</td>\n",
       "      <td>...</td>\n",
       "      <td>...</td>\n",
       "      <td>...</td>\n",
       "      <td>...</td>\n",
       "      <td>...</td>\n",
       "      <td>...</td>\n",
       "      <td>...</td>\n",
       "    </tr>\n",
       "    <tr>\n",
       "      <th>18085</th>\n",
       "      <td>PSE36552</td>\n",
       "      <td>2023-10-01</td>\n",
       "      <td>1</td>\n",
       "      <td>Political violence</td>\n",
       "      <td>Battles</td>\n",
       "      <td>Armed clash</td>\n",
       "      <td>Military Forces of Israel (2022-)</td>\n",
       "      <td>Unknown</td>\n",
       "      <td>8</td>\n",
       "      <td>38</td>\n",
       "      <td>...</td>\n",
       "      <td>35.2167</td>\n",
       "      <td>2</td>\n",
       "      <td>Long War Journal; Quds News Network; Twitter</td>\n",
       "      <td>New media-National</td>\n",
       "      <td>On 1 October 2023, an unidentified Palestinian...</td>\n",
       "      <td>0</td>\n",
       "      <td>Unknown</td>\n",
       "      <td>1696881789</td>\n",
       "      <td>October</td>\n",
       "      <td>01-10</td>\n",
       "    </tr>\n",
       "    <tr>\n",
       "      <th>18086</th>\n",
       "      <td>PSE36553</td>\n",
       "      <td>2023-10-01</td>\n",
       "      <td>1</td>\n",
       "      <td>Political violence</td>\n",
       "      <td>Riots</td>\n",
       "      <td>Mob violence</td>\n",
       "      <td>Rioters (Palestine)</td>\n",
       "      <td>Unknown</td>\n",
       "      <td>5</td>\n",
       "      <td>57</td>\n",
       "      <td>...</td>\n",
       "      <td>35.2856</td>\n",
       "      <td>2</td>\n",
       "      <td>Long War Journal; Quds News Network; Twitter</td>\n",
       "      <td>New media-National</td>\n",
       "      <td>On 1 October 2023, Palestinian rioters threw s...</td>\n",
       "      <td>0</td>\n",
       "      <td>crowd size=no report</td>\n",
       "      <td>1696881789</td>\n",
       "      <td>October</td>\n",
       "      <td>01-10</td>\n",
       "    </tr>\n",
       "    <tr>\n",
       "      <th>18087</th>\n",
       "      <td>PSE36553</td>\n",
       "      <td>2023-10-01</td>\n",
       "      <td>1</td>\n",
       "      <td>Political violence</td>\n",
       "      <td>Riots</td>\n",
       "      <td>Mob violence</td>\n",
       "      <td>Civilians (Israel)</td>\n",
       "      <td>Settlers (Israel)</td>\n",
       "      <td>7</td>\n",
       "      <td>57</td>\n",
       "      <td>...</td>\n",
       "      <td>35.2856</td>\n",
       "      <td>2</td>\n",
       "      <td>Long War Journal; Quds News Network; Twitter</td>\n",
       "      <td>New media-National</td>\n",
       "      <td>On 1 October 2023, Palestinian rioters threw s...</td>\n",
       "      <td>0</td>\n",
       "      <td>crowd size=no report</td>\n",
       "      <td>1696881789</td>\n",
       "      <td>October</td>\n",
       "      <td>01-10</td>\n",
       "    </tr>\n",
       "    <tr>\n",
       "      <th>18088</th>\n",
       "      <td>ISR16135</td>\n",
       "      <td>2023-10-01</td>\n",
       "      <td>1</td>\n",
       "      <td>Political violence</td>\n",
       "      <td>Riots</td>\n",
       "      <td>Mob violence</td>\n",
       "      <td>Rioters (Lebanon)</td>\n",
       "      <td>Unknown</td>\n",
       "      <td>5</td>\n",
       "      <td>15</td>\n",
       "      <td>...</td>\n",
       "      <td>35.5795</td>\n",
       "      <td>2</td>\n",
       "      <td>Arutz Sheva; Ma'ariv; Ynet</td>\n",
       "      <td>National</td>\n",
       "      <td>On 1 October 2023, Lebanese rioters threw ston...</td>\n",
       "      <td>0</td>\n",
       "      <td>crowd size=no report</td>\n",
       "      <td>1706035442</td>\n",
       "      <td>October</td>\n",
       "      <td>01-10</td>\n",
       "    </tr>\n",
       "    <tr>\n",
       "      <th>18089</th>\n",
       "      <td>ISR16135</td>\n",
       "      <td>2023-10-01</td>\n",
       "      <td>1</td>\n",
       "      <td>Political violence</td>\n",
       "      <td>Riots</td>\n",
       "      <td>Mob violence</td>\n",
       "      <td>Military Forces of Israel (2022-)</td>\n",
       "      <td>Unknown</td>\n",
       "      <td>1</td>\n",
       "      <td>15</td>\n",
       "      <td>...</td>\n",
       "      <td>35.5795</td>\n",
       "      <td>2</td>\n",
       "      <td>Arutz Sheva; Ma'ariv; Ynet</td>\n",
       "      <td>National</td>\n",
       "      <td>On 1 October 2023, Lebanese rioters threw ston...</td>\n",
       "      <td>0</td>\n",
       "      <td>crowd size=no report</td>\n",
       "      <td>1706035442</td>\n",
       "      <td>October</td>\n",
       "      <td>01-10</td>\n",
       "    </tr>\n",
       "  </tbody>\n",
       "</table>\n",
       "<p>17659 rows × 28 columns</p>\n",
       "</div>"
      ],
      "text/plain": [
       "      event_id_cnty event_date  time_precision           disorder_type  \\\n",
       "0          ISR38822 2024-01-19               1      Political violence   \n",
       "1          ISR38830 2024-01-19               1          Demonstrations   \n",
       "2          ISR38864 2024-01-19               1          Demonstrations   \n",
       "3          ISR38867 2024-01-19               1          Demonstrations   \n",
       "4          ISR38868 2024-01-19               1  Strategic developments   \n",
       "...             ...        ...             ...                     ...   \n",
       "18085      PSE36552 2023-10-01               1      Political violence   \n",
       "18086      PSE36553 2023-10-01               1      Political violence   \n",
       "18087      PSE36553 2023-10-01               1      Political violence   \n",
       "18088      ISR16135 2023-10-01               1      Political violence   \n",
       "18089      ISR16135 2023-10-01               1      Political violence   \n",
       "\n",
       "                       event_type                     sub_event_type  \\\n",
       "0      Explosions/Remote violence  Shelling/artillery/missile attack   \n",
       "1                        Protests                   Peaceful protest   \n",
       "2                        Protests                   Peaceful protest   \n",
       "3                        Protests                   Peaceful protest   \n",
       "4          Strategic developments              Disrupted weapons use   \n",
       "...                           ...                                ...   \n",
       "18085                     Battles                        Armed clash   \n",
       "18086                       Riots                       Mob violence   \n",
       "18087                       Riots                       Mob violence   \n",
       "18088                       Riots                       Mob violence   \n",
       "18089                       Riots                       Mob violence   \n",
       "\n",
       "                                  actor1                      assoc_actor_1  \\\n",
       "0                              Hezbollah                            Unknown   \n",
       "1                    Protesters (Israel)  Military Forces of Israel (2022-)   \n",
       "2                    Protesters (Israel)                  Students (Israel)   \n",
       "3                    Protesters (Israel)                     Women (Israel)   \n",
       "4      Military Forces of Israel (2022-)                            Unknown   \n",
       "...                                  ...                                ...   \n",
       "18085  Military Forces of Israel (2022-)                            Unknown   \n",
       "18086                Rioters (Palestine)                            Unknown   \n",
       "18087                 Civilians (Israel)                  Settlers (Israel)   \n",
       "18088                  Rioters (Lebanon)                            Unknown   \n",
       "18089  Military Forces of Israel (2022-)                            Unknown   \n",
       "\n",
       "       inter1  interaction  ... longitude  geo_precision  \\\n",
       "0           3           30  ...   35.2201              2   \n",
       "1           6           60  ...   35.0208              1   \n",
       "2           6           60  ...   34.8875              1   \n",
       "3           6           60  ...   34.7806              1   \n",
       "4           1           13  ...   34.9885              2   \n",
       "...       ...          ...  ...       ...            ...   \n",
       "18085       8           38  ...   35.2167              2   \n",
       "18086       5           57  ...   35.2856              2   \n",
       "18087       7           57  ...   35.2856              2   \n",
       "18088       5           15  ...   35.5795              2   \n",
       "18089       1           15  ...   35.5795              2   \n",
       "\n",
       "                                                  source  \\\n",
       "0                                                   Ynet   \n",
       "1                                           Israel Hayom   \n",
       "2                                                Haaretz   \n",
       "3                                                Haaretz   \n",
       "4      Calcalist; Colbo News; Haaretz; Jerusalem Post...   \n",
       "...                                                  ...   \n",
       "18085       Long War Journal; Quds News Network; Twitter   \n",
       "18086       Long War Journal; Quds News Network; Twitter   \n",
       "18087       Long War Journal; Quds News Network; Twitter   \n",
       "18088                         Arutz Sheva; Ma'ariv; Ynet   \n",
       "18089                         Arutz Sheva; Ma'ariv; Ynet   \n",
       "\n",
       "               source_scale  \\\n",
       "0                  National   \n",
       "1                  National   \n",
       "2                  National   \n",
       "3                  National   \n",
       "4      Subnational-National   \n",
       "...                     ...   \n",
       "18085    New media-National   \n",
       "18086    New media-National   \n",
       "18087    New media-National   \n",
       "18088              National   \n",
       "18089              National   \n",
       "\n",
       "                                                   notes fatalities  \\\n",
       "0      On 19 January 2024, Hezbollah forces in Lebano...          0   \n",
       "1      On 19 January 2024, army reservists and relati...          0   \n",
       "2      On 19 January 2024, dozens of high school stud...          0   \n",
       "3      On 19 January 2024, dozens of women and relati...          0   \n",
       "4      Interception: On 19 January 2024, Israeli mili...          0   \n",
       "...                                                  ...        ...   \n",
       "18085  On 1 October 2023, an unidentified Palestinian...          0   \n",
       "18086  On 1 October 2023, Palestinian rioters threw s...          0   \n",
       "18087  On 1 October 2023, Palestinian rioters threw s...          0   \n",
       "18088  On 1 October 2023, Lebanese rioters threw ston...          0   \n",
       "18089  On 1 October 2023, Lebanese rioters threw ston...          0   \n",
       "\n",
       "                       tags   timestamp    month  day_month  \n",
       "0                   Unknown  1705978255  January      19-01  \n",
       "1      crowd size=no report  1705978255  January      19-01  \n",
       "2         crowd size=dozens  1705978256  January      19-01  \n",
       "3         crowd size=dozens  1705978256  January      19-01  \n",
       "4                   Unknown  1705978256  January      19-01  \n",
       "...                     ...         ...      ...        ...  \n",
       "18085               Unknown  1696881789  October      01-10  \n",
       "18086  crowd size=no report  1696881789  October      01-10  \n",
       "18087  crowd size=no report  1696881789  October      01-10  \n",
       "18088  crowd size=no report  1706035442  October      01-10  \n",
       "18089  crowd size=no report  1706035442  October      01-10  \n",
       "\n",
       "[17659 rows x 28 columns]"
      ]
     },
     "execution_count": 25,
     "metadata": {},
     "output_type": "execute_result"
    }
   ],
   "source": [
    "attacks = Isr_plst_conflict_df[(Isr_plst_conflict_df.actor1 == 'Hamas Movement') |\n",
    "    (Isr_plst_conflict_df.actor1 == 'Civilians (Palestine)') |\n",
    "    (Isr_plst_conflict_df.actor1 == 'Protesters (Palestine)') |\n",
    "    (Isr_plst_conflict_df.actor1 == 'Rioters (Palestine)') |\n",
    "    (Isr_plst_conflict_df.actor1 == 'PIJ: Palestinian Islamic Jihad') |\n",
    "    (Isr_plst_conflict_df.actor1 == 'Unidentified Armed Group (Palestine)') |\n",
    "    (Isr_plst_conflict_df.actor1 == 'Mujahideen Brigades') |\n",
    "    (Isr_plst_conflict_df.actor1 == 'Al Nasser Salah al Deen Brigades') |\n",
    "    (Isr_plst_conflict_df.actor1 == 'PFLP: Popular Front for the Liberation of Palestine') |\n",
    "    (Isr_plst_conflict_df.actor1 == 'Police Forces of Palestine (2007-) Gaza Strip') |\n",
    "    (Isr_plst_conflict_df.actor1 == 'Government of Palestine (2007-) Hamas Government in Gaza') |\n",
    "    (Isr_plst_conflict_df.actor1 == 'Government of Palestine (1994-) Palestinian National Authority') |\n",
    "    (Isr_plst_conflict_df.actor1 == 'Fatah Movement') |\n",
    "    (Isr_plst_conflict_df.actor1 == 'Military Forces of Palestine (1994-)')|\n",
    "#Isr_attack = Isr_plst_conflict_df[\n",
    "    (Isr_plst_conflict_df.actor1 == 'Military Forces of Israel (2022-)') |\n",
    "    (Isr_plst_conflict_df.actor1 == 'Protesters (Israel)') |\n",
    "    (Isr_plst_conflict_df.actor1 == 'Police Forces of Israel (2022-)') |\n",
    "    (Isr_plst_conflict_df.actor1 == 'Rioters (Israel)') |\n",
    "    (Isr_plst_conflict_df.actor1 == 'Civilians (Israel)') |\n",
    "    (Isr_plst_conflict_df.actor1 == 'Police Forces of Israel') |\n",
    "    (Isr_plst_conflict_df.actor1 == 'Settlers (Israel)') |\n",
    "    (Isr_plst_conflict_df.actor1 == 'Unidentified Armed Group (Israel)') |\n",
    "    (Isr_plst_conflict_df.actor1 == 'Private Security Forces (Israel)') |\n",
    "    (Isr_plst_conflict_df.actor1 == 'Military Forces of Israel') |\n",
    "    (Isr_plst_conflict_df.actor1 == 'Government of Israel (2022-)')|\n",
    "    (Isr_plst_conflict_df.actor1 == 'Hezbollah') |\n",
    "    (Isr_plst_conflict_df.actor1 == 'Unidentified Armed Group (Lebanon)') |\n",
    "    (Isr_plst_conflict_df.actor1 == 'Military Forces of Lebanon (2021-)') |\n",
    "    (Isr_plst_conflict_df.actor1 == 'Rioters (Lebanon)') ]\n",
    "attacks"
   ]
  },
  {
   "cell_type": "code",
   "execution_count": 145,
   "id": "9872da8c-65b5-4b46-a8ae-4cd0be7563cc",
   "metadata": {},
   "outputs": [
    {
     "name": "stderr",
     "output_type": "stream",
     "text": [
      "C:\\Users\\USER\\AppData\\Local\\Temp\\ipykernel_12340\\2387080541.py:1: SettingWithCopyWarning: \n",
      "A value is trying to be set on a copy of a slice from a DataFrame.\n",
      "Try using .loc[row_indexer,col_indexer] = value instead\n",
      "\n",
      "See the caveats in the documentation: https://pandas.pydata.org/pandas-docs/stable/user_guide/indexing.html#returning-a-view-versus-a-copy\n",
      "  attacks['actor1'] = attacks['actor1'].replace(['Hamas Movement',\n",
      "C:\\Users\\USER\\AppData\\Local\\Temp\\ipykernel_12340\\2387080541.py:16: SettingWithCopyWarning: \n",
      "A value is trying to be set on a copy of a slice from a DataFrame.\n",
      "Try using .loc[row_indexer,col_indexer] = value instead\n",
      "\n",
      "See the caveats in the documentation: https://pandas.pydata.org/pandas-docs/stable/user_guide/indexing.html#returning-a-view-versus-a-copy\n",
      "  attacks['actor1']= attacks['actor1'].replace(['Military Forces of Israel (2022-)',\n",
      "C:\\Users\\USER\\AppData\\Local\\Temp\\ipykernel_12340\\2387080541.py:28: SettingWithCopyWarning: \n",
      "A value is trying to be set on a copy of a slice from a DataFrame.\n",
      "Try using .loc[row_indexer,col_indexer] = value instead\n",
      "\n",
      "See the caveats in the documentation: https://pandas.pydata.org/pandas-docs/stable/user_guide/indexing.html#returning-a-view-versus-a-copy\n",
      "  attacks['actor1']= attacks['actor1'].replace(['Hezbollah',\n"
     ]
    },
    {
     "data": {
      "text/html": [
       "<div>\n",
       "<style scoped>\n",
       "    .dataframe tbody tr th:only-of-type {\n",
       "        vertical-align: middle;\n",
       "    }\n",
       "\n",
       "    .dataframe tbody tr th {\n",
       "        vertical-align: top;\n",
       "    }\n",
       "\n",
       "    .dataframe thead th {\n",
       "        text-align: right;\n",
       "    }\n",
       "</style>\n",
       "<table border=\"1\" class=\"dataframe\">\n",
       "  <thead>\n",
       "    <tr style=\"text-align: right;\">\n",
       "      <th></th>\n",
       "      <th>event_id_cnty</th>\n",
       "      <th>event_date</th>\n",
       "      <th>time_precision</th>\n",
       "      <th>disorder_type</th>\n",
       "      <th>event_type</th>\n",
       "      <th>sub_event_type</th>\n",
       "      <th>actor1</th>\n",
       "      <th>assoc_actor_1</th>\n",
       "      <th>inter1</th>\n",
       "      <th>interaction</th>\n",
       "      <th>...</th>\n",
       "      <th>longitude</th>\n",
       "      <th>geo_precision</th>\n",
       "      <th>source</th>\n",
       "      <th>source_scale</th>\n",
       "      <th>notes</th>\n",
       "      <th>fatalities</th>\n",
       "      <th>tags</th>\n",
       "      <th>timestamp</th>\n",
       "      <th>month</th>\n",
       "      <th>day_month</th>\n",
       "    </tr>\n",
       "  </thead>\n",
       "  <tbody>\n",
       "    <tr>\n",
       "      <th>0</th>\n",
       "      <td>ISR38822</td>\n",
       "      <td>2024-01-19</td>\n",
       "      <td>1</td>\n",
       "      <td>Political violence</td>\n",
       "      <td>Explosions/Remote violence</td>\n",
       "      <td>Shelling/artillery/missile attack</td>\n",
       "      <td>Lebanon</td>\n",
       "      <td>Unknown</td>\n",
       "      <td>3</td>\n",
       "      <td>30</td>\n",
       "      <td>...</td>\n",
       "      <td>35.2201</td>\n",
       "      <td>2</td>\n",
       "      <td>Ynet</td>\n",
       "      <td>National</td>\n",
       "      <td>On 19 January 2024, Hezbollah forces in Lebano...</td>\n",
       "      <td>0</td>\n",
       "      <td>Unknown</td>\n",
       "      <td>1705978255</td>\n",
       "      <td>January</td>\n",
       "      <td>19-01</td>\n",
       "    </tr>\n",
       "    <tr>\n",
       "      <th>1</th>\n",
       "      <td>ISR38830</td>\n",
       "      <td>2024-01-19</td>\n",
       "      <td>1</td>\n",
       "      <td>Demonstrations</td>\n",
       "      <td>Protests</td>\n",
       "      <td>Peaceful protest</td>\n",
       "      <td>Israel</td>\n",
       "      <td>Military Forces of Israel (2022-)</td>\n",
       "      <td>6</td>\n",
       "      <td>60</td>\n",
       "      <td>...</td>\n",
       "      <td>35.0208</td>\n",
       "      <td>1</td>\n",
       "      <td>Israel Hayom</td>\n",
       "      <td>National</td>\n",
       "      <td>On 19 January 2024, army reservists and relati...</td>\n",
       "      <td>0</td>\n",
       "      <td>crowd size=no report</td>\n",
       "      <td>1705978255</td>\n",
       "      <td>January</td>\n",
       "      <td>19-01</td>\n",
       "    </tr>\n",
       "    <tr>\n",
       "      <th>2</th>\n",
       "      <td>ISR38864</td>\n",
       "      <td>2024-01-19</td>\n",
       "      <td>1</td>\n",
       "      <td>Demonstrations</td>\n",
       "      <td>Protests</td>\n",
       "      <td>Peaceful protest</td>\n",
       "      <td>Israel</td>\n",
       "      <td>Students (Israel)</td>\n",
       "      <td>6</td>\n",
       "      <td>60</td>\n",
       "      <td>...</td>\n",
       "      <td>34.8875</td>\n",
       "      <td>1</td>\n",
       "      <td>Haaretz</td>\n",
       "      <td>National</td>\n",
       "      <td>On 19 January 2024, dozens of high school stud...</td>\n",
       "      <td>0</td>\n",
       "      <td>crowd size=dozens</td>\n",
       "      <td>1705978256</td>\n",
       "      <td>January</td>\n",
       "      <td>19-01</td>\n",
       "    </tr>\n",
       "    <tr>\n",
       "      <th>3</th>\n",
       "      <td>ISR38867</td>\n",
       "      <td>2024-01-19</td>\n",
       "      <td>1</td>\n",
       "      <td>Demonstrations</td>\n",
       "      <td>Protests</td>\n",
       "      <td>Peaceful protest</td>\n",
       "      <td>Israel</td>\n",
       "      <td>Women (Israel)</td>\n",
       "      <td>6</td>\n",
       "      <td>60</td>\n",
       "      <td>...</td>\n",
       "      <td>34.7806</td>\n",
       "      <td>1</td>\n",
       "      <td>Haaretz</td>\n",
       "      <td>National</td>\n",
       "      <td>On 19 January 2024, dozens of women and relati...</td>\n",
       "      <td>0</td>\n",
       "      <td>crowd size=dozens</td>\n",
       "      <td>1705978256</td>\n",
       "      <td>January</td>\n",
       "      <td>19-01</td>\n",
       "    </tr>\n",
       "    <tr>\n",
       "      <th>4</th>\n",
       "      <td>ISR38868</td>\n",
       "      <td>2024-01-19</td>\n",
       "      <td>1</td>\n",
       "      <td>Strategic developments</td>\n",
       "      <td>Strategic developments</td>\n",
       "      <td>Disrupted weapons use</td>\n",
       "      <td>Israel</td>\n",
       "      <td>Unknown</td>\n",
       "      <td>1</td>\n",
       "      <td>13</td>\n",
       "      <td>...</td>\n",
       "      <td>34.9885</td>\n",
       "      <td>2</td>\n",
       "      <td>Calcalist; Colbo News; Haaretz; Jerusalem Post...</td>\n",
       "      <td>Subnational-National</td>\n",
       "      <td>Interception: On 19 January 2024, Israeli mili...</td>\n",
       "      <td>0</td>\n",
       "      <td>Unknown</td>\n",
       "      <td>1705978256</td>\n",
       "      <td>January</td>\n",
       "      <td>19-01</td>\n",
       "    </tr>\n",
       "    <tr>\n",
       "      <th>...</th>\n",
       "      <td>...</td>\n",
       "      <td>...</td>\n",
       "      <td>...</td>\n",
       "      <td>...</td>\n",
       "      <td>...</td>\n",
       "      <td>...</td>\n",
       "      <td>...</td>\n",
       "      <td>...</td>\n",
       "      <td>...</td>\n",
       "      <td>...</td>\n",
       "      <td>...</td>\n",
       "      <td>...</td>\n",
       "      <td>...</td>\n",
       "      <td>...</td>\n",
       "      <td>...</td>\n",
       "      <td>...</td>\n",
       "      <td>...</td>\n",
       "      <td>...</td>\n",
       "      <td>...</td>\n",
       "      <td>...</td>\n",
       "      <td>...</td>\n",
       "    </tr>\n",
       "    <tr>\n",
       "      <th>18085</th>\n",
       "      <td>PSE36552</td>\n",
       "      <td>2023-10-01</td>\n",
       "      <td>1</td>\n",
       "      <td>Political violence</td>\n",
       "      <td>Battles</td>\n",
       "      <td>Armed clash</td>\n",
       "      <td>Israel</td>\n",
       "      <td>Unknown</td>\n",
       "      <td>8</td>\n",
       "      <td>38</td>\n",
       "      <td>...</td>\n",
       "      <td>35.2167</td>\n",
       "      <td>2</td>\n",
       "      <td>Long War Journal; Quds News Network; Twitter</td>\n",
       "      <td>New media-National</td>\n",
       "      <td>On 1 October 2023, an unidentified Palestinian...</td>\n",
       "      <td>0</td>\n",
       "      <td>Unknown</td>\n",
       "      <td>1696881789</td>\n",
       "      <td>October</td>\n",
       "      <td>01-10</td>\n",
       "    </tr>\n",
       "    <tr>\n",
       "      <th>18086</th>\n",
       "      <td>PSE36553</td>\n",
       "      <td>2023-10-01</td>\n",
       "      <td>1</td>\n",
       "      <td>Political violence</td>\n",
       "      <td>Riots</td>\n",
       "      <td>Mob violence</td>\n",
       "      <td>Gaza</td>\n",
       "      <td>Unknown</td>\n",
       "      <td>5</td>\n",
       "      <td>57</td>\n",
       "      <td>...</td>\n",
       "      <td>35.2856</td>\n",
       "      <td>2</td>\n",
       "      <td>Long War Journal; Quds News Network; Twitter</td>\n",
       "      <td>New media-National</td>\n",
       "      <td>On 1 October 2023, Palestinian rioters threw s...</td>\n",
       "      <td>0</td>\n",
       "      <td>crowd size=no report</td>\n",
       "      <td>1696881789</td>\n",
       "      <td>October</td>\n",
       "      <td>01-10</td>\n",
       "    </tr>\n",
       "    <tr>\n",
       "      <th>18087</th>\n",
       "      <td>PSE36553</td>\n",
       "      <td>2023-10-01</td>\n",
       "      <td>1</td>\n",
       "      <td>Political violence</td>\n",
       "      <td>Riots</td>\n",
       "      <td>Mob violence</td>\n",
       "      <td>Israel</td>\n",
       "      <td>Settlers (Israel)</td>\n",
       "      <td>7</td>\n",
       "      <td>57</td>\n",
       "      <td>...</td>\n",
       "      <td>35.2856</td>\n",
       "      <td>2</td>\n",
       "      <td>Long War Journal; Quds News Network; Twitter</td>\n",
       "      <td>New media-National</td>\n",
       "      <td>On 1 October 2023, Palestinian rioters threw s...</td>\n",
       "      <td>0</td>\n",
       "      <td>crowd size=no report</td>\n",
       "      <td>1696881789</td>\n",
       "      <td>October</td>\n",
       "      <td>01-10</td>\n",
       "    </tr>\n",
       "    <tr>\n",
       "      <th>18088</th>\n",
       "      <td>ISR16135</td>\n",
       "      <td>2023-10-01</td>\n",
       "      <td>1</td>\n",
       "      <td>Political violence</td>\n",
       "      <td>Riots</td>\n",
       "      <td>Mob violence</td>\n",
       "      <td>Lebanon</td>\n",
       "      <td>Unknown</td>\n",
       "      <td>5</td>\n",
       "      <td>15</td>\n",
       "      <td>...</td>\n",
       "      <td>35.5795</td>\n",
       "      <td>2</td>\n",
       "      <td>Arutz Sheva; Ma'ariv; Ynet</td>\n",
       "      <td>National</td>\n",
       "      <td>On 1 October 2023, Lebanese rioters threw ston...</td>\n",
       "      <td>0</td>\n",
       "      <td>crowd size=no report</td>\n",
       "      <td>1706035442</td>\n",
       "      <td>October</td>\n",
       "      <td>01-10</td>\n",
       "    </tr>\n",
       "    <tr>\n",
       "      <th>18089</th>\n",
       "      <td>ISR16135</td>\n",
       "      <td>2023-10-01</td>\n",
       "      <td>1</td>\n",
       "      <td>Political violence</td>\n",
       "      <td>Riots</td>\n",
       "      <td>Mob violence</td>\n",
       "      <td>Israel</td>\n",
       "      <td>Unknown</td>\n",
       "      <td>1</td>\n",
       "      <td>15</td>\n",
       "      <td>...</td>\n",
       "      <td>35.5795</td>\n",
       "      <td>2</td>\n",
       "      <td>Arutz Sheva; Ma'ariv; Ynet</td>\n",
       "      <td>National</td>\n",
       "      <td>On 1 October 2023, Lebanese rioters threw ston...</td>\n",
       "      <td>0</td>\n",
       "      <td>crowd size=no report</td>\n",
       "      <td>1706035442</td>\n",
       "      <td>October</td>\n",
       "      <td>01-10</td>\n",
       "    </tr>\n",
       "  </tbody>\n",
       "</table>\n",
       "<p>17659 rows × 28 columns</p>\n",
       "</div>"
      ],
      "text/plain": [
       "      event_id_cnty event_date  time_precision           disorder_type  \\\n",
       "0          ISR38822 2024-01-19               1      Political violence   \n",
       "1          ISR38830 2024-01-19               1          Demonstrations   \n",
       "2          ISR38864 2024-01-19               1          Demonstrations   \n",
       "3          ISR38867 2024-01-19               1          Demonstrations   \n",
       "4          ISR38868 2024-01-19               1  Strategic developments   \n",
       "...             ...        ...             ...                     ...   \n",
       "18085      PSE36552 2023-10-01               1      Political violence   \n",
       "18086      PSE36553 2023-10-01               1      Political violence   \n",
       "18087      PSE36553 2023-10-01               1      Political violence   \n",
       "18088      ISR16135 2023-10-01               1      Political violence   \n",
       "18089      ISR16135 2023-10-01               1      Political violence   \n",
       "\n",
       "                       event_type                     sub_event_type   actor1  \\\n",
       "0      Explosions/Remote violence  Shelling/artillery/missile attack  Lebanon   \n",
       "1                        Protests                   Peaceful protest   Israel   \n",
       "2                        Protests                   Peaceful protest   Israel   \n",
       "3                        Protests                   Peaceful protest   Israel   \n",
       "4          Strategic developments              Disrupted weapons use   Israel   \n",
       "...                           ...                                ...      ...   \n",
       "18085                     Battles                        Armed clash   Israel   \n",
       "18086                       Riots                       Mob violence     Gaza   \n",
       "18087                       Riots                       Mob violence   Israel   \n",
       "18088                       Riots                       Mob violence  Lebanon   \n",
       "18089                       Riots                       Mob violence   Israel   \n",
       "\n",
       "                           assoc_actor_1  inter1  interaction  ... longitude  \\\n",
       "0                                Unknown       3           30  ...   35.2201   \n",
       "1      Military Forces of Israel (2022-)       6           60  ...   35.0208   \n",
       "2                      Students (Israel)       6           60  ...   34.8875   \n",
       "3                         Women (Israel)       6           60  ...   34.7806   \n",
       "4                                Unknown       1           13  ...   34.9885   \n",
       "...                                  ...     ...          ...  ...       ...   \n",
       "18085                            Unknown       8           38  ...   35.2167   \n",
       "18086                            Unknown       5           57  ...   35.2856   \n",
       "18087                  Settlers (Israel)       7           57  ...   35.2856   \n",
       "18088                            Unknown       5           15  ...   35.5795   \n",
       "18089                            Unknown       1           15  ...   35.5795   \n",
       "\n",
       "       geo_precision                                             source  \\\n",
       "0                  2                                               Ynet   \n",
       "1                  1                                       Israel Hayom   \n",
       "2                  1                                            Haaretz   \n",
       "3                  1                                            Haaretz   \n",
       "4                  2  Calcalist; Colbo News; Haaretz; Jerusalem Post...   \n",
       "...              ...                                                ...   \n",
       "18085              2       Long War Journal; Quds News Network; Twitter   \n",
       "18086              2       Long War Journal; Quds News Network; Twitter   \n",
       "18087              2       Long War Journal; Quds News Network; Twitter   \n",
       "18088              2                         Arutz Sheva; Ma'ariv; Ynet   \n",
       "18089              2                         Arutz Sheva; Ma'ariv; Ynet   \n",
       "\n",
       "               source_scale  \\\n",
       "0                  National   \n",
       "1                  National   \n",
       "2                  National   \n",
       "3                  National   \n",
       "4      Subnational-National   \n",
       "...                     ...   \n",
       "18085    New media-National   \n",
       "18086    New media-National   \n",
       "18087    New media-National   \n",
       "18088              National   \n",
       "18089              National   \n",
       "\n",
       "                                                   notes fatalities  \\\n",
       "0      On 19 January 2024, Hezbollah forces in Lebano...          0   \n",
       "1      On 19 January 2024, army reservists and relati...          0   \n",
       "2      On 19 January 2024, dozens of high school stud...          0   \n",
       "3      On 19 January 2024, dozens of women and relati...          0   \n",
       "4      Interception: On 19 January 2024, Israeli mili...          0   \n",
       "...                                                  ...        ...   \n",
       "18085  On 1 October 2023, an unidentified Palestinian...          0   \n",
       "18086  On 1 October 2023, Palestinian rioters threw s...          0   \n",
       "18087  On 1 October 2023, Palestinian rioters threw s...          0   \n",
       "18088  On 1 October 2023, Lebanese rioters threw ston...          0   \n",
       "18089  On 1 October 2023, Lebanese rioters threw ston...          0   \n",
       "\n",
       "                       tags   timestamp    month  day_month  \n",
       "0                   Unknown  1705978255  January      19-01  \n",
       "1      crowd size=no report  1705978255  January      19-01  \n",
       "2         crowd size=dozens  1705978256  January      19-01  \n",
       "3         crowd size=dozens  1705978256  January      19-01  \n",
       "4                   Unknown  1705978256  January      19-01  \n",
       "...                     ...         ...      ...        ...  \n",
       "18085               Unknown  1696881789  October      01-10  \n",
       "18086  crowd size=no report  1696881789  October      01-10  \n",
       "18087  crowd size=no report  1696881789  October      01-10  \n",
       "18088  crowd size=no report  1706035442  October      01-10  \n",
       "18089  crowd size=no report  1706035442  October      01-10  \n",
       "\n",
       "[17659 rows x 28 columns]"
      ]
     },
     "execution_count": 145,
     "metadata": {},
     "output_type": "execute_result"
    }
   ],
   "source": [
    "attacks['actor1'] = attacks['actor1'].replace(['Hamas Movement',\n",
    "                                               'Civilians (Palestine)',\n",
    "                                               'Protesters (Palestine)',\n",
    "                                               'Rioters (Palestine)',\n",
    "                                               'PIJ: Palestinian Islamic Jihad',\n",
    "                                               'Unidentified Armed Group (Palestine)',\n",
    "                                               'Mujahideen Brigades',\n",
    "                                               'Al Nasser Salah al Deen Brigades',\n",
    "                                               'PFLP: Popular Front for the Liberation of Palestine',\n",
    "                                               'Police Forces of Palestine (2007-) Gaza Strip',\n",
    "                                               'Government of Palestine (2007-) Hamas Government in Gaza',\n",
    "                                               'Government of Palestine (1994-) Palestinian National Authority',\n",
    "                                               'Fatah Movement',\n",
    "                                               'Military Forces of Palestine (1994-)'],\n",
    "                                               'Gaza')\n",
    "attacks['actor1']= attacks['actor1'].replace(['Military Forces of Israel (2022-)',\n",
    "                                              'Protesters (Israel)',\n",
    "                                              'Police Forces of Israel (2022-)',\n",
    "                                              'Rioters (Israel)',\n",
    "                                              'Civilians (Israel)',\n",
    "                                              'Police Forces of Israel',\n",
    "                                              'Settlers (Israel)',\n",
    "                                              'Unidentified Armed Group (Israel)',\n",
    "                                              'Private Security Forces (Israel)',\n",
    "                                              'Military Forces of Israel',\n",
    "                                              'Government of Israel (2022-)'],\n",
    "                                              'Israel')\n",
    "attacks['actor1']= attacks['actor1'].replace(['Hezbollah',\n",
    "                                              'Unidentified Armed Group (Lebanon)',\n",
    "                                              'Military Forces of Lebanon (2021-)',\n",
    "                                              'Rioters (Lebanon)'],\n",
    "                                              'Lebanon')\n",
    "\n",
    "attacks"
   ]
  },
  {
   "cell_type": "code",
   "execution_count": 62,
   "id": "e500bd8b-313a-40a2-9dc5-991c70715c62",
   "metadata": {},
   "outputs": [
    {
     "data": {
      "text/plain": [
       "array(['Lebanon', 'Israel', 'Gaza'], dtype=object)"
      ]
     },
     "execution_count": 62,
     "metadata": {},
     "output_type": "execute_result"
    }
   ],
   "source": [
    "attacks['actor1'].unique()"
   ]
  },
  {
   "cell_type": "code",
   "execution_count": 75,
   "id": "15c7ec72-1b2f-4ebe-81d0-0d7dc951273a",
   "metadata": {},
   "outputs": [],
   "source": [
    "attacks1 = attacks[(attacks['month'] == 'October') & (attacks['event_date'] >= '2023-10-06') & (attacks['event_date'] <= '2023-10-10')]"
   ]
  },
  {
   "cell_type": "code",
   "execution_count": 105,
   "id": "91607238-df62-4c79-9976-9ee6973b1249",
   "metadata": {},
   "outputs": [
    {
     "data": {
      "image/png": "[encoded data removed]",
      "text/plain": [
       "<Figure size 1200x600 with 1 Axes>"
      ]
     },
     "metadata": {},
     "output_type": "display_data"
    }
   ],
   "source": [
    "plt.figure(figsize=(12, 6))\n",
    "sns.countplot(data=attacks1, x='day_month', hue='actor1', palette='ocean_r', order=sorted(attacks1['day_month'].unique()))\n",
    "plt.title('Number of attacks by each country')\n",
    "plt.ylabel('Number of attacks')\n",
    "plt.xticks(rotation=45) \n",
    "plt.legend(title='The attacker')\n",
    "plt.xlabel(\"\")\n",
    "plt.show()"
   ]
  },
  {
   "cell_type": "markdown",
   "id": "51349cfc-0b5e-4edf-b950-aae4a1ba22b6",
   "metadata": {},
   "source": [
    "### The maximum number of attacks occurred on 9/10, confirming it is the day with the most attacks. Now that we know they came from Israel, we can assume that this is the Israeli response to the outbreak of the war.\n"
   ]
  },
  {
   "cell_type": "markdown",
   "id": "eec88fb6-09c7-4b66-845e-39072e985110",
   "metadata": {},
   "source": [
    "# <span style=\"color:blue\"> 2.2 Second Observation</span>"
   ]
  },
  {
   "cell_type": "code",
   "execution_count": 150,
   "id": "9d359c04-6208-4e08-8a27-322e76caff03",
   "metadata": {},
   "outputs": [
    {
     "data": {
      "image/png": "[encoded data removed]",
      "text/plain": [
       "<Figure size 700x400 with 1 Axes>"
      ]
     },
     "metadata": {},
     "output_type": "display_data"
    }
   ],
   "source": [
    "months_without_jan = Isr_plst_conflict_df['month'].value_counts().drop(index='January').sort_values(ascending=False).index\n",
    "fig, ax = plt.subplots(figsize=(7, 4))\n",
    "sns.countplot(data=Isr_plst_conflict_df, x='month', palette='ocean_r', order=months_without_jan)\n",
    "plt.xlabel(\"\")\n",
    "plt.xticks(rotation=40, ha='right', rotation_mode='anchor')\n",
    "plt.show()"
   ]
  },
  {
   "cell_type": "markdown",
   "id": "7c3c2250-2218-4013-a3c0-333efea6b015",
   "metadata": {
    "tags": []
   },
   "source": [
    "### We wanted to see if the number of events decreases from month to month to assess the state of the conflict. We did notice that the number of events does decrease from October to November. However, we know that the war is not over yet (there are still captives, etc.) So, we wanted to investigate what causes this change.\n",
    "### Therefore, we will focus on the number of events occurring in November."
   ]
  },
  {
   "cell_type": "code",
   "execution_count": 108,
   "id": "67f5c06a-6a26-4ae1-9e48-8a99f6be07f0",
   "metadata": {},
   "outputs": [
    {
     "data": {
      "image/png": "[encoded data removed]",
      "text/plain": [
       "<Figure size 1000x600 with 1 Axes>"
      ]
     },
     "metadata": {},
     "output_type": "display_data"
    }
   ],
   "source": [
    "fig, ax = plt.subplots(figsize=(10, 6))\n",
    "November_data = Isr_plst_conflict_df[(Isr_plst_conflict_df['month'] == 'November') & (Isr_plst_conflict_df['event_date'] <= '2023-11-30')]\n",
    "November_events = November_data.groupby('day_month').size().reset_index(name='events_count')\n",
    "plt.axvline(x=November_events['day_month'][November_events['day_month'] == '27-11'].index[0], color='r', linestyle='--')\n",
    "sns.lineplot(data=November_events, x='day_month', y='events_count')\n",
    "plt.xticks(rotation=45, ha='right', rotation_mode='anchor')\n",
    "plt.xlabel(\"\")\n",
    "plt.ylabel(\"Number of events\")\n",
    "plt.show()"
   ]
  },
  {
   "cell_type": "markdown",
   "id": "caa8eb43-fe31-460c-bf88-676f54f1c0d4",
   "metadata": {},
   "source": [
    "### We can see that there is a drastic decrease in the number of events from November 22nd to November 27th.\n",
    "### This decrease apparently reduces the number of events from October to November and we want to investigate the cause of this drastic drop, considering we are still in a state of war.\n"
   ]
  },
  {
   "cell_type": "code",
   "execution_count": 32,
   "id": "a13f757d-35e6-4fd7-8bb6-9458b37cef3f",
   "metadata": {},
   "outputs": [],
   "source": [
    "data_Nov = Isr_plst_conflict_df[(Isr_plst_conflict_df['month'] == 'November') & (Isr_plst_conflict_df['event_date'] <= '2023-11-27') & (Isr_plst_conflict_df['event_date'] >= '2023-11-24')]\n",
    "#data_Nov['notes'].unique()"
   ]
  },
  {
   "cell_type": "code",
   "execution_count": 33,
   "id": "03b7decd-090f-4dab-b36e-aacd7fa60c9d",
   "metadata": {},
   "outputs": [
    {
     "data": {
      "text/html": [
       "<div>\n",
       "<style scoped>\n",
       "    .dataframe tbody tr th:only-of-type {\n",
       "        vertical-align: middle;\n",
       "    }\n",
       "\n",
       "    .dataframe tbody tr th {\n",
       "        vertical-align: top;\n",
       "    }\n",
       "\n",
       "    .dataframe thead th {\n",
       "        text-align: right;\n",
       "    }\n",
       "</style>\n",
       "<table border=\"1\" class=\"dataframe\">\n",
       "  <thead>\n",
       "    <tr style=\"text-align: right;\">\n",
       "      <th></th>\n",
       "      <th>event_id_cnty</th>\n",
       "      <th>event_date</th>\n",
       "      <th>time_precision</th>\n",
       "      <th>disorder_type</th>\n",
       "      <th>event_type</th>\n",
       "      <th>sub_event_type</th>\n",
       "      <th>actor1</th>\n",
       "      <th>assoc_actor_1</th>\n",
       "      <th>inter1</th>\n",
       "      <th>interaction</th>\n",
       "      <th>...</th>\n",
       "      <th>longitude</th>\n",
       "      <th>geo_precision</th>\n",
       "      <th>source</th>\n",
       "      <th>source_scale</th>\n",
       "      <th>notes</th>\n",
       "      <th>fatalities</th>\n",
       "      <th>tags</th>\n",
       "      <th>timestamp</th>\n",
       "      <th>month</th>\n",
       "      <th>day_month</th>\n",
       "    </tr>\n",
       "  </thead>\n",
       "  <tbody>\n",
       "    <tr>\n",
       "      <th>7446</th>\n",
       "      <td>PSE42021</td>\n",
       "      <td>2023-11-27</td>\n",
       "      <td>1</td>\n",
       "      <td>Strategic developments</td>\n",
       "      <td>Strategic developments</td>\n",
       "      <td>Other</td>\n",
       "      <td>Hamas Movement</td>\n",
       "      <td>Unknown</td>\n",
       "      <td>3</td>\n",
       "      <td>37</td>\n",
       "      <td>...</td>\n",
       "      <td>34.4743</td>\n",
       "      <td>3</td>\n",
       "      <td>Haaretz; N12; Times of Israel</td>\n",
       "      <td>Regional</td>\n",
       "      <td>Other: On 27 November 2023, Hamas released 11 ...</td>\n",
       "      <td>0</td>\n",
       "      <td>Unknown</td>\n",
       "      <td>1701732587</td>\n",
       "      <td>November</td>\n",
       "      <td>27-11</td>\n",
       "    </tr>\n",
       "    <tr>\n",
       "      <th>7447</th>\n",
       "      <td>PSE42021</td>\n",
       "      <td>2023-11-27</td>\n",
       "      <td>1</td>\n",
       "      <td>Strategic developments</td>\n",
       "      <td>Strategic developments</td>\n",
       "      <td>Other</td>\n",
       "      <td>Civilians (Israel)</td>\n",
       "      <td>Civilians (Thailand)</td>\n",
       "      <td>7</td>\n",
       "      <td>37</td>\n",
       "      <td>...</td>\n",
       "      <td>34.4743</td>\n",
       "      <td>3</td>\n",
       "      <td>Haaretz; N12; Times of Israel</td>\n",
       "      <td>Regional</td>\n",
       "      <td>Other: On 27 November 2023, Hamas released 11 ...</td>\n",
       "      <td>0</td>\n",
       "      <td>Unknown</td>\n",
       "      <td>1701732587</td>\n",
       "      <td>November</td>\n",
       "      <td>27-11</td>\n",
       "    </tr>\n",
       "  </tbody>\n",
       "</table>\n",
       "<p>2 rows × 28 columns</p>\n",
       "</div>"
      ],
      "text/plain": [
       "     event_id_cnty event_date  time_precision           disorder_type  \\\n",
       "7446      PSE42021 2023-11-27               1  Strategic developments   \n",
       "7447      PSE42021 2023-11-27               1  Strategic developments   \n",
       "\n",
       "                  event_type sub_event_type              actor1  \\\n",
       "7446  Strategic developments          Other      Hamas Movement   \n",
       "7447  Strategic developments          Other  Civilians (Israel)   \n",
       "\n",
       "             assoc_actor_1  inter1  interaction  ... longitude  geo_precision  \\\n",
       "7446               Unknown       3           37  ...   34.4743              3   \n",
       "7447  Civilians (Thailand)       7           37  ...   34.4743              3   \n",
       "\n",
       "                             source source_scale  \\\n",
       "7446  Haaretz; N12; Times of Israel     Regional   \n",
       "7447  Haaretz; N12; Times of Israel     Regional   \n",
       "\n",
       "                                                  notes fatalities     tags  \\\n",
       "7446  Other: On 27 November 2023, Hamas released 11 ...          0  Unknown   \n",
       "7447  Other: On 27 November 2023, Hamas released 11 ...          0  Unknown   \n",
       "\n",
       "       timestamp     month  day_month  \n",
       "7446  1701732587  November      27-11  \n",
       "7447  1701732587  November      27-11  \n",
       "\n",
       "[2 rows x 28 columns]"
      ]
     },
     "execution_count": 33,
     "metadata": {},
     "output_type": "execute_result"
    }
   ],
   "source": [
    "data_Nov=Isr_plst_conflict_df[Isr_plst_conflict_df.notes== 'Other: On 27 November 2023, Hamas released 11 Israeli hostages and six Thai nationals who were being held in Gaza, per the temporary ceasefire agreement agreed upon by Hamas and Israel. The Israelis released were nine children and two women, all of whom were taken hostage from the southern town of Nir Oz. Among the 11 released Israeli hostages are French, German, and Argentinian dual nationals. This was the final exchange of the four-day ceasefire, as originally agreed upon by the two sides. An agreement was later reached on a two-day extension of the ceasefire and hostage exchange. Coded at Gaza.']\n",
    "data_Nov"
   ]
  },
  {
   "cell_type": "markdown",
   "id": "181ab0c5-88ec-477e-bc28-e7ba14354af5",
   "metadata": {},
   "source": [
    "\n",
    "### We checked using the 'notes' column in our dataset (which describes what happened each day), and we found that on November 24th- 27th, there was a ceasefire, and Hamas released captives. Therefore, we can assume that this is why the number of events decreased."
   ]
  },
  {
   "cell_type": "markdown",
   "id": "d9ce9a46-6c4c-48c9-9fc9-8987b32b59c1",
   "metadata": {},
   "source": [
    "**Link to this event**  \n",
    "https://he.wikipedia.org/wiki/%D7%A2%D7%A1%D7%A7%D7%AA_%D7%A9%D7%97%D7%A8%D7%95%D7%A8_%D7%94%D7%97%D7%98%D7%95%D7%A4%D7%99%D7%9D_%D7%99%D7%A9%D7%A8%D7%90%D7%9C%E2%80%93%D7%97%D7%9E%D7%90%D7%A1_(2023)"
   ]
  },
  {
   "cell_type": "markdown",
   "id": "17928161-f035-4a83-9094-ffab15e8becb",
   "metadata": {},
   "source": [
    "\n",
    "# <span style=\"color:blue\"> 2.3 Third Observation</span>"
   ]
  },
  {
   "cell_type": "markdown",
   "id": "da390a1b-1157-464d-b600-06eeca45e6ea",
   "metadata": {},
   "source": [
    "#### We want to check who attacks the most and which types of attacks they carry out the most"
   ]
  },
  {
   "cell_type": "code",
   "execution_count": 158,
   "id": "92bf9d16-84e2-4d59-a25f-1a45155026af",
   "metadata": {},
   "outputs": [
    {
     "data": {
      "image/png": "[encoded data removed]",
      "text/plain": [
       "<Figure size 1200x600 with 1 Axes>"
      ]
     },
     "metadata": {},
     "output_type": "display_data"
    }
   ],
   "source": [
    "plt.figure(figsize=(12, 6))\n",
    "sns.countplot(data=attacks1, x='event_type', hue='actor1', palette='ocean_r')\n",
    "plt.title('Number of attacks by each country')\n",
    "plt.ylabel('Number of attacks')\n",
    "plt.xticks(rotation=45) \n",
    "plt.legend(title='Event type', loc='upper right', bbox_to_anchor=(1, 1))\n",
    "plt.xlabel(\"\")\n",
    "plt.show()"
   ]
  },
  {
   "cell_type": "markdown",
   "id": "7fd50dda-38b6-4793-a099-21761d9618fe",
   "metadata": {},
   "source": [
    "#### We will focus on Israel and Gaza because we can see from the graph that Lebanon is almost negligible."
   ]
  },
  {
   "cell_type": "markdown",
   "id": "ae5f5183-3dfc-4191-b3a5-1145332d0097",
   "metadata": {},
   "source": [
    "#### We can see that the most common event types is explosions/Remote violence and riots.\n",
    "#### We will focus on attacks against Israel.\n",
    "#### We want to examine the number of fatalities in each attack and focus on the type of events to see what influences the fatalities in Israel."
   ]
  },
  {
   "cell_type": "code",
   "execution_count": 171,
   "id": "fe3a5988-5b0c-45b5-98d2-c4b848257e4a",
   "metadata": {},
   "outputs": [
    {
     "data": {
      "image/png": "[encoded data removed]",
      "text/plain": [
       "<Figure size 1000x600 with 1 Axes>"
      ]
     },
     "metadata": {},
     "output_type": "display_data"
    }
   ],
   "source": [
    "Isr_df=attacks[(attacks['actor1'] == 'Gaza') &(attacks['fatalities'] != 471)]\n",
    "Isr_df.boxplot( column='fatalities', by='event_type', figsize=(10,6))\n",
    "plt.title('Fatalities in Israel by Event Type')\n",
    "plt.suptitle('')\n",
    "plt.xlabel('')\n",
    "plt.ylabel('Number of Fatalities')\n",
    "plt.xticks(rotation=45, ha='right', rotation_mode='anchor')\n",
    "plt.show()"
   ]
  },
  {
   "cell_type": "markdown",
   "id": "6a206707-5682-47b3-ba6c-71491c29fd41",
   "metadata": {},
   "source": [
    "### We see a box plot graph. It can be seen that the average number of fatalities in bombings  attacks is the highest. From this, we can conclude that to reduce the number of fatalities,  we need to investment in the use and development of tools against bombings (like Iron Dome).\n",
    "### We also recomend providing clearer instructions to civilians during a red alert."
   ]
  },
  {
   "cell_type": "code",
   "execution_count": 53,
   "id": "c37d3b02-fbf7-4422-a5ca-53844738fece",
   "metadata": {},
   "outputs": [
    {
     "data": {
      "text/plain": [
       "array(['On 17 October 2023, around 19:00, an unidentified object caused a blast at the Al-Ahli Baptist Hospital in Gaza - Az Zaytun (Gaza City, Gaza Strip), killing at least between 100-471 people according to multiple sources, including the US Intelligence agency (100-300) and Gaza Ministry of Health (471). The Director of the hospital noted that he believed the number was closer to 250. The Gaza Ministry of Health also noted that 314 people were injured. The blast also caused material damages to the church of Saint Porphyrius. Early reports suggested that the blast was due to an Israeli airstrike. The Israeli Defense Forces denied attacking the hospital and claimed that the blast resulted from a failed rocket launch by the Islamic Jihad organization. Islamic Jihad has also denied responsibility for the blast. Actor 1 coded as Unidentified Armed Group until evidence is reviewed. [Palestinian Ministry of Health reported 471 fatalities.]'],\n",
       "      dtype=object)"
      ]
     },
     "execution_count": 53,
     "metadata": {},
     "output_type": "execute_result"
    }
   ],
   "source": [
    "a= Isr_plst_conflict_df[Isr_plst_conflict_df.fatalities == 471]\n",
    "a['notes'].unique()"
   ]
  },
  {
   "cell_type": "markdown",
   "id": "31e0c76b-10df-40c8-9b92-e363d011862d",
   "metadata": {
    "tags": []
   },
   "source": [
    "#### We removed the outlier point because it is an unusual event during the conflict. We cross-referenced the data with a column in our dataset describing the event on the day with the maximum number of fatalities, and we found that on that day  was the bombing at the hospital in Gaza and were killed Palestinian civilians."
   ]
  }
 ],
 "metadata": {
  "kernelspec": {
   "display_name": "Python 3 (ipykernel)",
   "language": "python",
   "name": "python3"
  },
  "language_info": {
   "codemirror_mode": {
    "name": "ipython",
    "version": 3
   },
   "file_extension": ".py",
   "mimetype": "text/x-python",
   "name": "python",
   "nbconvert_exporter": "python",
   "pygments_lexer": "ipython3",
   "version": "3.9.13"
  }
 },
 "nbformat": 4,
 "nbformat_minor": 5
}
